{
 "cells": [
  {
   "cell_type": "code",
   "execution_count": 1,
   "metadata": {},
   "outputs": [],
   "source": [
    "import pandas as pd\n",
    "import numpy as np\n",
    "\n",
    "pd.set_option('max_columns', 100)\n",
    "pd.set_option('max_rows', 200)\n",
    "import warnings\n",
    "warnings.filterwarnings('ignore')\n",
    "%matplotlib inline"
   ]
  },
  {
   "cell_type": "markdown",
   "metadata": {},
   "source": [
    "# 验证集"
   ]
  },
  {
   "cell_type": "code",
   "execution_count": 2,
   "metadata": {},
   "outputs": [],
   "source": [
    "train = pd.read_csv('train_all.csv')"
   ]
  },
  {
   "cell_type": "code",
   "execution_count": 3,
   "metadata": {},
   "outputs": [],
   "source": [
    "train_col = train.columns\n",
    "for i in train_col:\n",
    "    train[i] = train[i].replace('\\\\N', 0)"
   ]
  },
  {
   "cell_type": "code",
   "execution_count": 4,
   "metadata": {},
   "outputs": [],
   "source": [
    "train['former_complaint_fee'] = train['former_complaint_fee']/1000"
   ]
  },
  {
   "cell_type": "code",
   "execution_count": 5,
   "metadata": {},
   "outputs": [],
   "source": [
    "train['2_total_fee'] = train['2_total_fee'].astype(float)\n",
    "train['3_total_fee'] = train['3_total_fee'].astype(float)"
   ]
  },
  {
   "cell_type": "code",
   "execution_count": 6,
   "metadata": {},
   "outputs": [],
   "source": [
    "train = train.drop(train[train['contract_type']==8].index.tolist())"
   ]
  },
  {
   "cell_type": "code",
   "execution_count": 1164,
   "metadata": {},
   "outputs": [],
   "source": [
    "# train['month_traffic'] = np.log(train['month_traffic'])\n",
    "# train['service2_callser_time'] = np.log(train['service2_caller_time'])"
   ]
  },
  {
   "cell_type": "code",
   "execution_count": 765,
   "metadata": {},
   "outputs": [],
   "source": [
    "# test['2_total_fee'] = test['2_total_fee'].astype(float)\n",
    "# test['3_total_fee'] = test['3_total_fee'].astype(float)"
   ]
  },
  {
   "cell_type": "markdown",
   "metadata": {},
   "source": [
    "涨分"
   ]
  },
  {
   "cell_type": "code",
   "execution_count": 7,
   "metadata": {},
   "outputs": [],
   "source": [
    "# 其中fee_min有没有用还没有确定\n",
    "train['fee_mean'] = train.loc[:, '1_total_fee':'4_total_fee'].mean(axis=1)\n",
    "# train['fee_median'] = train.loc[:, '1_total_fee':'4_total_fee'].median(axis=1)\n",
    "train['fee_max'] = train.loc[:, '1_total_fee':'4_total_fee'].max(axis=1)\n",
    "train['fee_min'] = train.loc[:, '1_total_fee':'4_total_fee'].min(axis=1)\n",
    "# train['fee_var'] = train.loc[:, '1_total_fee':'4_total_fee'].var(axis=1)"
   ]
  },
  {
   "cell_type": "code",
   "execution_count": 912,
   "metadata": {},
   "outputs": [],
   "source": [
    "# train['every_complaint_fee'] = 0\n",
    "# index_not0 = train[train['former_complaint_fee'] != 0].index.tolist()\n",
    "# train['every_complaint_fee'][index_not0] = train['former_complaint_fee'][index_not0]/train['former_complaint_num'][index_not0]"
   ]
  },
  {
   "cell_type": "code",
   "execution_count": 768,
   "metadata": {},
   "outputs": [],
   "source": [
    "# train['online_morethan_contract'] = (train['online_time']>train['contract_time']).astype(int)\n",
    "# train['local_morethan_service1'] = (train['local_caller_time']>train['service1_caller_time']).astype(int)\n",
    "# train['local_morethan_serivce2'] = (train['local_caller_time']>train['service2_caller_time']).astype(int)\n",
    "# train['service1_morethan_service2'] = (train['service1_caller_time']>train['service2_caller_time']).astype(int)"
   ]
  },
  {
   "cell_type": "code",
   "execution_count": 8,
   "metadata": {},
   "outputs": [],
   "source": [
    "train['every_pay'] = train['pay_num']/train['pay_times']"
   ]
  },
  {
   "cell_type": "code",
   "execution_count": 9,
   "metadata": {},
   "outputs": [],
   "source": [
    "train['this_month_traffic'] = train['month_traffic'] - train['last_month_traffic']"
   ]
  },
  {
   "cell_type": "code",
   "execution_count": 1213,
   "metadata": {},
   "outputs": [],
   "source": [
    "train['actual_1_total_fee'] = train['1_total_fee'] - train['service1_caller_time']*0.15-(train['month_traffic']-train['last_month_traffic']-train['local_trafffic_month'])*0.3"
   ]
  },
  {
   "cell_type": "code",
   "execution_count": 1214,
   "metadata": {},
   "outputs": [],
   "source": [
    "train['total_fee1'] = train['1_total_fee']/train['1_total_fee'].max()\n",
    "train['total_fee2'] = train['2_total_fee']/train['2_total_fee'].max()\n",
    "train['total_fee3'] = train['3_total_fee']/train['3_total_fee'].max()\n",
    "train['total_fee4'] = train['4_total_fee']/train['4_total_fee'].max()"
   ]
  },
  {
   "cell_type": "code",
   "execution_count": 1215,
   "metadata": {},
   "outputs": [],
   "source": [
    "# train['total_min2'] = train['2_total_fee']/train['2_total_fee'].min()\n",
    "train['total_min3'] = train['3_total_fee']/train['3_total_fee'].min()\n",
    "train['total_min4'] = train['4_total_fee']/train['4_total_fee'].min()"
   ]
  },
  {
   "cell_type": "markdown",
   "metadata": {},
   "source": [
    "## onehot"
   ]
  },
  {
   "cell_type": "code",
   "execution_count": 1124,
   "metadata": {},
   "outputs": [],
   "source": [
    "# service_type = pd.get_dummies(train['service_type'], prefix='service_type')\n",
    "# service_type['user_id'] = train['user_id']"
   ]
  },
  {
   "cell_type": "code",
   "execution_count": 1216,
   "metadata": {},
   "outputs": [],
   "source": [
    "is_mix_service = pd.get_dummies(train['is_mix_service'], prefix='is_mix_service')\n",
    "is_mix_service['user_id'] = train['user_id']"
   ]
  },
  {
   "cell_type": "code",
   "execution_count": 1217,
   "metadata": {},
   "outputs": [],
   "source": [
    "many_over_bill = pd.get_dummies(train['many_over_bill'], prefix='many_over_bill')\n",
    "many_over_bill['user_id'] = train['user_id']"
   ]
  },
  {
   "cell_type": "code",
   "execution_count": 1218,
   "metadata": {},
   "outputs": [],
   "source": [
    "contract_type = pd.get_dummies(train['contract_type'], prefix='contract_type')\n",
    "contract_type['user_id'] = train['user_id']"
   ]
  },
  {
   "cell_type": "code",
   "execution_count": 1219,
   "metadata": {},
   "outputs": [],
   "source": [
    "is_promise_low_consume = pd.get_dummies(train['is_promise_low_consume'], prefix='low_consume')\n",
    "is_promise_low_consume['user_id'] = train['user_id']"
   ]
  },
  {
   "cell_type": "code",
   "execution_count": 1220,
   "metadata": {},
   "outputs": [],
   "source": [
    "net_service = pd.get_dummies(train['net_service'], prefix='low_consume')\n",
    "net_service['user_id'] = train['user_id']"
   ]
  },
  {
   "cell_type": "code",
   "execution_count": 1221,
   "metadata": {},
   "outputs": [],
   "source": [
    "complaint_level = pd.get_dummies(train['complaint_level'], prefix='complaint_level')\n",
    "complaint_level['user_id'] = train['user_id']"
   ]
  },
  {
   "cell_type": "code",
   "execution_count": 1222,
   "metadata": {},
   "outputs": [],
   "source": [
    "onehot = pd.merge(is_mix_service, many_over_bill, on=['user_id'])\n",
    "# onehot = pd.merge(onehot, many_over_bill, on=['user_id'])\n",
    "onehot = pd.merge(onehot, contract_type, on=['user_id'])\n",
    "onehot = pd.merge(onehot, is_promise_low_consume, on=['user_id'])\n",
    "onehot = pd.merge(onehot, net_service, on=['user_id'])\n",
    "onehot = pd.merge(onehot, complaint_level, on=['user_id'])"
   ]
  },
  {
   "cell_type": "code",
   "execution_count": 1223,
   "metadata": {},
   "outputs": [],
   "source": [
    "train = pd.merge(train, onehot, on=['user_id'])"
   ]
  },
  {
   "cell_type": "code",
   "execution_count": 1224,
   "metadata": {},
   "outputs": [],
   "source": [
    "train = train.drop(['is_mix_service', 'many_over_bill', 'contract_type', 'is_promise_low_consume', 'net_service', 'complaint_level'], axis=1)"
   ]
  },
  {
   "cell_type": "code",
   "execution_count": 1225,
   "metadata": {},
   "outputs": [],
   "source": [
    "train = train.drop(['former_complaint_fee', 'former_complaint_num'], axis=1)"
   ]
  },
  {
   "cell_type": "code",
   "execution_count": 8,
   "metadata": {},
   "outputs": [],
   "source": [
    "# train['pay_diff_fee'] = train['1_total_fee'] - train['pay_num']"
   ]
  },
  {
   "cell_type": "code",
   "execution_count": 1087,
   "metadata": {},
   "outputs": [],
   "source": [
    "# train['contract_online'] = train['contract_time'] + train['online_time']"
   ]
  },
  {
   "cell_type": "markdown",
   "metadata": {},
   "source": [
    "涨分"
   ]
  },
  {
   "cell_type": "code",
   "execution_count": 65,
   "metadata": {},
   "outputs": [],
   "source": [
    "# train['net_contract'] = train['contract_type'].map(str)+'_'+train['is_mix_service'].map(str)\n",
    "# train['net_contract'] = pd.factorize(train['net_contract'])[0]"
   ]
  },
  {
   "cell_type": "code",
   "execution_count": 66,
   "metadata": {},
   "outputs": [],
   "source": [
    "# train['service_contract'] = train['service_type'].map(str)+'_'+train['is_mix_service'].map(str)\n",
    "# train['service_contract'] = pd.factorize(train['service_contract'])[0]"
   ]
  },
  {
   "cell_type": "markdown",
   "metadata": {},
   "source": [
    "涨分"
   ]
  },
  {
   "cell_type": "code",
   "execution_count": 605,
   "metadata": {},
   "outputs": [],
   "source": [
    "# train['online_fee'] = train['fee_mean'] * train['online_time']\n",
    "# train['online_min_fee'] = train['fee_min'] * train['online_time']\n",
    "# train['online_max_fee'] = train['fee_max'] * train['online_time']"
   ]
  },
  {
   "cell_type": "markdown",
   "metadata": {},
   "source": [
    "### 计算total_fee异常值判断的上下界 涨分"
   ]
  },
  {
   "cell_type": "code",
   "execution_count": 133,
   "metadata": {},
   "outputs": [],
   "source": [
    "# fee_mean = train[['user_id']]\n",
    "# fee_mean['fee_mean'] = train.loc[:, '1_total_fee':'4_total_fee'].mean(axis=1)\n",
    "# fee_mean['1_fee_diff'] = (train['1_total_fee'] - fee_mean['fee_mean'])/fee_mean['fee_mean']\n",
    "# fee_mean['2_fee_diff'] = (train['2_total_fee'] - fee_mean['fee_mean'])/fee_mean['fee_mean']\n",
    "# fee_mean['3_fee_diff'] = (train['3_total_fee'] - fee_mean['fee_mean'])/fee_mean['fee_mean']\n",
    "# fee_mean['4_fee_diff'] = (train['4_total_fee'] - fee_mean['fee_mean'])/fee_mean['fee_mean']"
   ]
  },
  {
   "cell_type": "code",
   "execution_count": 975,
   "metadata": {},
   "outputs": [],
   "source": [
    "fee_mean = train[['user_id', '1_total_fee', '2_total_fee', '3_total_fee', '4_total_fee']]"
   ]
  },
  {
   "cell_type": "code",
   "execution_count": 976,
   "metadata": {},
   "outputs": [],
   "source": [
    "fee_mean = fee_mean.sort_values(by='1_total_fee', axis=0, ascending=True).reset_index(drop=True)\n",
    "fee_u1 = fee_mean.loc[int(len(fee_mean['1_total_fee'])*3/4), '1_total_fee']\n",
    "fee_l1 = fee_mean.loc[int(len(fee_mean['1_total_fee'])/4), '1_total_fee']\n",
    "iqr1 = fee_u1-fee_l1\n",
    "upper_bound1 = fee_u1 + 1.5*iqr1\n",
    "lower_bound1 = fee_l1 - 1.5*iqr1"
   ]
  },
  {
   "cell_type": "code",
   "execution_count": 977,
   "metadata": {},
   "outputs": [],
   "source": [
    "fee_mean = fee_mean.sort_values(by='2_total_fee', axis=0, ascending=True).reset_index(drop=True)\n",
    "fee_u2 = fee_mean.loc[int(len(fee_mean['2_total_fee'])*3/4), '2_total_fee']\n",
    "fee_l2 = fee_mean.loc[int(len(fee_mean['2_total_fee'])/4), '2_total_fee']\n",
    "iqr2 = fee_u2-fee_l2\n",
    "upper_bound2 = fee_u2 + 1.5*iqr2\n",
    "lower_bound2 = fee_l2 - 1.5*iqr2"
   ]
  },
  {
   "cell_type": "code",
   "execution_count": 978,
   "metadata": {},
   "outputs": [],
   "source": [
    "fee_mean3 = fee_mean.sort_values(by='3_total_fee', axis=0, ascending=True).reset_index(drop=True)\n",
    "fee_u3 = fee_mean.loc[int(len(fee_mean['3_total_fee'])*3/4), '3_total_fee']\n",
    "fee_l3 = fee_mean.loc[int(len(fee_mean['3_total_fee'])/4), '3_total_fee']\n",
    "iqr3 = fee_u3-fee_l3\n",
    "upper_bound3 = fee_u3 + 1.5*iqr3\n",
    "lower_bound3 = fee_l3 - 1.5*iqr3"
   ]
  },
  {
   "cell_type": "code",
   "execution_count": 979,
   "metadata": {},
   "outputs": [],
   "source": [
    "fee_mean = fee_mean.sort_values(by='4_total_fee', axis=0, ascending=True).reset_index(drop=True)\n",
    "fee_u4 = fee_mean.loc[int(len(fee_mean['4_total_fee'])*3/4), '4_total_fee']\n",
    "fee_l4 = fee_mean.loc[int(len(fee_mean['4_total_fee'])/4), '4_total_fee']\n",
    "iqr4 = fee_u4-fee_l4\n",
    "upper_bound4 = fee_u4 + 1.5*iqr4\n",
    "lower_bound4 = fee_l4 - 1.5*iqr4"
   ]
  },
  {
   "cell_type": "code",
   "execution_count": 980,
   "metadata": {},
   "outputs": [],
   "source": [
    "fee1_upout = fee_mean[fee_mean['1_total_fee']>upper_bound1].index.tolist()\n",
    "fee1_lowout = fee_mean[fee_mean['1_total_fee']<lower_bound1].index.tolist()\n",
    "fee2_upout = fee_mean[fee_mean['2_total_fee']>upper_bound2].index.tolist()\n",
    "fee2_lowout = fee_mean[fee_mean['2_total_fee']<lower_bound2].index.tolist()\n",
    "fee3_upout = fee_mean[fee_mean['3_total_fee']>upper_bound3].index.tolist()\n",
    "fee3_lowout = fee_mean[fee_mean['3_total_fee']<lower_bound3].index.tolist()\n",
    "fee4_upout = fee_mean[fee_mean['4_total_fee']>upper_bound4].index.tolist()\n",
    "fee4_lowout = fee_mean[fee_mean['4_total_fee']<lower_bound4].index.tolist()"
   ]
  },
  {
   "cell_type": "code",
   "execution_count": 1038,
   "metadata": {},
   "outputs": [],
   "source": [
    "train['1_out_fee'] = 0\n",
    "train['2_out_fee'] = 0\n",
    "train['3_out_fee'] = 0\n",
    "train['4_out_fee'] = 0\n",
    "train['1_out_fee'][fee1_upout] = 1\n",
    "train['2_out_fee'][fee2_upout] = 1\n",
    "train['3_out_fee'][fee3_upout] = 1\n",
    "train['4_out_fee'][fee4_upout] = 1\n",
    "train['1_out_fee'][fee1_lowout] = -1\n",
    "train['2_out_fee'][fee2_lowout] = -1\n",
    "train['3_out_fee'][fee3_lowout] = -1\n",
    "train['4_out_fee'][fee4_lowout] = -1"
   ]
  },
  {
   "cell_type": "code",
   "execution_count": 10,
   "metadata": {},
   "outputs": [],
   "source": [
    "train.to_csv('train_pre.csv', index=False)"
   ]
  },
  {
   "cell_type": "code",
   "execution_count": 162,
   "metadata": {},
   "outputs": [],
   "source": [
    "# train['this_month_traffic'] = train['month_traffic'] - train['last_month_traffic']\n",
    "# train['outland_traffic_month'] = train['this_month_traffic'] - train['local_trafffic_month']\n",
    "# train['is_0'] = (train['month_traffic'] \n",
    "#                          == 0)&(train['last_month_traffic'] == 0)&(train['local_trafffic_month']==0)"
   ]
  },
  {
   "cell_type": "code",
   "execution_count": 163,
   "metadata": {},
   "outputs": [],
   "source": [
    "# train['no_call'] = ((train['local_caller_time'] == 0)&\n",
    "#                            (train['service1_caller_time'] == 0)&\n",
    "#                            (train['service2_caller_time'] == 0)).astype(int)\n",
    "# train['no_service_but_call'] = ((train['local_caller_time'] == 0)&\n",
    "#                                         (train['service1_caller_time'] > 0)|\n",
    "#                                         (train['service2_caller_time'] > 0)).astype(int)\n",
    "# train['no_traffic'] = (train['last_month_traffic'] == train['month_traffic']).astype(int)"
   ]
  },
  {
   "cell_type": "code",
   "execution_count": 164,
   "metadata": {},
   "outputs": [],
   "source": [
    "# train['out_traffic'] = train['month_traffic'] - train['local_trafffic_month']\n",
    "# train['last_no_out'] = ((train['last_month_traffic'] > 0)& (train['service2_caller_time'] == 0)).astype(int)\n",
    "# train['last_no_change_type'] = (train['last_month_traffic'] > 0).astype(int)\n",
    "# train['now_right_fee'] = train['last_no_change_type']*train['2_total_fee']\n",
    "# del train['last_no_change_type']"
   ]
  },
  {
   "cell_type": "code",
   "execution_count": 202,
   "metadata": {},
   "outputs": [],
   "source": [
    "# 这一组是一起试的，如果最后有时间，可以分开看一下\n",
    "# train['remain_fee'] = train['1_total_fee'] - train['month_traffic']*0.3\n",
    "# train['base_fee'] = (train['month_traffic']-train['last_month_traffic'])*0.3+train['local_caller_time']*0.15\n",
    "# train['last_remain_fee'] = train['2_total_fee'] - train['service1_caller_time']*0.15\n",
    "# train['last2_remain_fee'] = train['3_total_fee'] - train['service2_caller_time']*0.15"
   ]
  },
  {
   "cell_type": "code",
   "execution_count": 178,
   "metadata": {},
   "outputs": [],
   "source": [
    "# train['12_fee'] = train['1_total_fee'] - train['2_total_fee']\n",
    "# train['23_fee'] = train['2_total_fee'] - train['3_total_fee']\n",
    "# train['34_fee'] = train['3_total_fee'] - train['4_total_fee']"
   ]
  },
  {
   "cell_type": "code",
   "execution_count": 181,
   "metadata": {},
   "outputs": [],
   "source": [
    "# train['fee_to1'] = (train['1_total_fee']-train['fee_mean'])/train['fee_var']\n",
    "# train['fee_to2'] = (train['2_total_fee']-train['fee_mean'])/train['fee_var']\n",
    "# train['fee_to3'] = (train['3_total_fee']-train['fee_mean'])/train['fee_var']\n",
    "# train['fee_to4'] = (train['4_total_fee']-train['fee_mean'])/train['fee_var']"
   ]
  },
  {
   "cell_type": "code",
   "execution_count": 109,
   "metadata": {},
   "outputs": [],
   "source": [
    "# train['1_total_fee'] = train['1_total_fee'].apply(lambda x: np.sqrt(x))\n",
    "# train['2_total_fee'] = train['2_total_fee'].apply(lambda x: np.sqrt(x))\n",
    "# train['3_total_fee'] = train['3_total_fee'].apply(lambda x: np.sqrt(x))\n",
    "# train['4_total_fee'] = train['4_total_fee'].apply(lambda x: np.sqrt(x))"
   ]
  },
  {
   "cell_type": "code",
   "execution_count": null,
   "metadata": {},
   "outputs": [],
   "source": []
  },
  {
   "cell_type": "markdown",
   "metadata": {},
   "source": [
    "# 测试集"
   ]
  },
  {
   "cell_type": "code",
   "execution_count": 1227,
   "metadata": {},
   "outputs": [],
   "source": [
    "test = pd.read_csv('republish_test.csv')\n",
    "# test = pd.read_csv('test_pre_0.743.csv')"
   ]
  },
  {
   "cell_type": "code",
   "execution_count": 1228,
   "metadata": {},
   "outputs": [],
   "source": [
    "test_col = test.columns\n",
    "for i in test_col:\n",
    "    test[i] = test[i].replace('\\\\N', 0)"
   ]
  },
  {
   "cell_type": "code",
   "execution_count": 1229,
   "metadata": {},
   "outputs": [],
   "source": [
    "test['2_total_fee'] = test['2_total_fee'].astype(float)\n",
    "test['3_total_fee'] = test['3_total_fee'].astype(float)"
   ]
  },
  {
   "cell_type": "code",
   "execution_count": 1230,
   "metadata": {},
   "outputs": [],
   "source": [
    "# test['month_traffic'] = np.log(test['month_traffic'])\n",
    "# test['service2_callser_time'] = np.log(test['service2_caller_time'])"
   ]
  },
  {
   "cell_type": "code",
   "execution_count": 1231,
   "metadata": {},
   "outputs": [],
   "source": [
    "test['fee_mean'] = test.loc[:, '1_total_fee':'4_total_fee'].mean(axis=1)\n",
    "test['fee_median'] = test.loc[:, '1_total_fee':'4_total_fee'].median(axis=1)\n",
    "test['fee_max'] = test.loc[:, '1_total_fee':'4_total_fee'].max(axis=1)\n",
    "test['fee_min'] = test.loc[:, '1_total_fee':'4_total_fee'].min(axis=1)\n",
    "# test['fee_var'] = test.loc[:, '1_total_fee':'4_total_fee'].var(axis=1)"
   ]
  },
  {
   "cell_type": "code",
   "execution_count": 988,
   "metadata": {},
   "outputs": [],
   "source": [
    "# test['every_complaint_fee'] = 0\n",
    "# index_not0 = test[test['former_complaint_fee'] != 0].index.tolist()\n",
    "# test['every_complaint_fee'][index_not0] = test['former_complaint_fee'][index_not0]/test['former_complaint_num'][index_not0]"
   ]
  },
  {
   "cell_type": "code",
   "execution_count": 989,
   "metadata": {},
   "outputs": [],
   "source": [
    "# test['online_morethan_contract'] = (test['online_time']>test['contract_time']).astype(int)\n",
    "# test['local_morethan_service1'] = (test['local_caller_time']>test['service1_caller_time']).astype(int)\n",
    "# test['local_morethan_serivce2'] = (test['local_caller_time']>test['service2_caller_time']).astype(int)\n",
    "# test['service1_morethan_service2'] = (test['service1_caller_time']>test['service2_caller_time']).astype(int)"
   ]
  },
  {
   "cell_type": "code",
   "execution_count": 1232,
   "metadata": {},
   "outputs": [],
   "source": [
    "test['every_pay'] = test['pay_num']/test['pay_times']"
   ]
  },
  {
   "cell_type": "code",
   "execution_count": 1233,
   "metadata": {},
   "outputs": [],
   "source": [
    "test['this_month_traffic'] = test['month_traffic'] - test['last_month_traffic']"
   ]
  },
  {
   "cell_type": "code",
   "execution_count": 1234,
   "metadata": {},
   "outputs": [],
   "source": [
    "test['actual_1_total_fee'] = test['1_total_fee'] - test['service1_caller_time']*0.15-(test['month_traffic']-test['last_month_traffic']-test['local_trafffic_month'])*0.3"
   ]
  },
  {
   "cell_type": "code",
   "execution_count": 1235,
   "metadata": {},
   "outputs": [],
   "source": [
    "test['total_fee1'] = test['1_total_fee']/test['1_total_fee'].max()\n",
    "test['total_fee2'] = test['2_total_fee']/test['2_total_fee'].max()\n",
    "test['total_fee3'] = test['3_total_fee']/test['3_total_fee'].max()\n",
    "test['total_fee4'] = test['4_total_fee']/test['4_total_fee'].max()"
   ]
  },
  {
   "cell_type": "code",
   "execution_count": 1236,
   "metadata": {},
   "outputs": [],
   "source": [
    "# test['total_min2'] = test['2_total_fee']/test['2_total_fee'].min()\n",
    "test['total_min3'] = test['3_total_fee']/test['3_total_fee'].min()\n",
    "test['total_min4'] = test['4_total_fee']/test['4_total_fee'].min()"
   ]
  },
  {
   "cell_type": "markdown",
   "metadata": {},
   "source": [
    "## Onehot"
   ]
  },
  {
   "cell_type": "code",
   "execution_count": 1237,
   "metadata": {},
   "outputs": [],
   "source": [
    "# service_type = pd.get_dummies(test['service_type'], prefix='service_type')\n",
    "# service_type['user_id'] = test['user_id']"
   ]
  },
  {
   "cell_type": "code",
   "execution_count": 1238,
   "metadata": {},
   "outputs": [],
   "source": [
    "is_mix_service = pd.get_dummies(test['is_mix_service'], prefix='is_mix_service')\n",
    "is_mix_service['user_id'] = test['user_id']"
   ]
  },
  {
   "cell_type": "code",
   "execution_count": 1239,
   "metadata": {},
   "outputs": [],
   "source": [
    "many_over_bill = pd.get_dummies(test['many_over_bill'], prefix='many_over_bill')\n",
    "many_over_bill['user_id'] = test['user_id']"
   ]
  },
  {
   "cell_type": "code",
   "execution_count": 1240,
   "metadata": {},
   "outputs": [],
   "source": [
    "contract_type = pd.get_dummies(test['contract_type'], prefix='contract_type')\n",
    "contract_type['user_id'] = test['user_id']"
   ]
  },
  {
   "cell_type": "code",
   "execution_count": 1241,
   "metadata": {},
   "outputs": [],
   "source": [
    "is_promise_low_consume = pd.get_dummies(test['is_promise_low_consume'], prefix='low_consume')\n",
    "is_promise_low_consume['user_id'] = test['user_id']"
   ]
  },
  {
   "cell_type": "code",
   "execution_count": 1242,
   "metadata": {},
   "outputs": [],
   "source": [
    "net_service = pd.get_dummies(test['net_service'], prefix='low_consume')\n",
    "net_service['user_id'] = test['user_id']"
   ]
  },
  {
   "cell_type": "code",
   "execution_count": 1243,
   "metadata": {},
   "outputs": [],
   "source": [
    "complaint_level = pd.get_dummies(test['complaint_level'], prefix='complaint_level')\n",
    "complaint_level['user_id'] = test['user_id']"
   ]
  },
  {
   "cell_type": "code",
   "execution_count": 1244,
   "metadata": {},
   "outputs": [],
   "source": [
    "onehot = pd.merge(is_mix_service, many_over_bill, on=['user_id'])\n",
    "# onehot = pd.merge(onehot, many_over_bill, on=['user_id'])\n",
    "onehot = pd.merge(onehot, contract_type, on=['user_id'])\n",
    "onehot = pd.merge(onehot, is_promise_low_consume, on=['user_id'])\n",
    "onehot = pd.merge(onehot, net_service, on=['user_id'])\n",
    "onehot = pd.merge(onehot, complaint_level, on=['user_id'])"
   ]
  },
  {
   "cell_type": "code",
   "execution_count": 1245,
   "metadata": {},
   "outputs": [],
   "source": [
    "test = pd.merge(test, onehot, on=['user_id'])"
   ]
  },
  {
   "cell_type": "code",
   "execution_count": 1246,
   "metadata": {},
   "outputs": [],
   "source": [
    "test = test.drop(['is_mix_service', 'many_over_bill', 'contract_type', 'is_promise_low_consume', 'net_service', 'complaint_level'], axis=1)"
   ]
  },
  {
   "cell_type": "code",
   "execution_count": 16,
   "metadata": {},
   "outputs": [],
   "source": [
    "# test['pay_diff_fee'] = test['1_total_fee'] - test['pay_num']"
   ]
  },
  {
   "cell_type": "code",
   "execution_count": 1109,
   "metadata": {},
   "outputs": [],
   "source": [
    "# test['contract_online'] = test['contract_time'] + test['online_time']"
   ]
  },
  {
   "cell_type": "code",
   "execution_count": 75,
   "metadata": {},
   "outputs": [],
   "source": [
    "# test['net_contract'] = test['contract_type'].map(str)+'_'+test['is_mix_service'].map(str)\n",
    "# test['net_contract'] = pd.factorize(test['net_contract'])[0]"
   ]
  },
  {
   "cell_type": "code",
   "execution_count": 76,
   "metadata": {},
   "outputs": [],
   "source": [
    "# test['service_contract'] = test['service_type'].map(str)+'_'+test['is_mix_service'].map(str)\n",
    "# test['service_contract'] = pd.factorize(test['service_contract'])[0]"
   ]
  },
  {
   "cell_type": "code",
   "execution_count": 531,
   "metadata": {},
   "outputs": [],
   "source": [
    "# test['online_fee'] = test['fee_mean'] * test['online_time']\n",
    "# test['online_min_fee'] = test['fee_min'] * test['online_time']\n",
    "# test['online_max_fee'] = test['fee_max'] * test['online_time']"
   ]
  },
  {
   "cell_type": "code",
   "execution_count": 1005,
   "metadata": {},
   "outputs": [],
   "source": [
    "fee_mean = test[['user_id', '1_total_fee', '2_total_fee', '3_total_fee', '4_total_fee']]"
   ]
  },
  {
   "cell_type": "code",
   "execution_count": 1006,
   "metadata": {},
   "outputs": [],
   "source": [
    "fee_u1 = fee_mean.loc[int(len(fee_mean['1_total_fee'])*3/4), '1_total_fee']\n",
    "fee_l1 = fee_mean.loc[int(len(fee_mean['1_total_fee'])/4), '1_total_fee']\n",
    "iqr1 = fee_u1-fee_l1\n",
    "upper_bound1 = fee_u1 + 1.5*iqr1\n",
    "lower_bound1 = fee_l1 - 1.5*iqr1"
   ]
  },
  {
   "cell_type": "code",
   "execution_count": 1007,
   "metadata": {},
   "outputs": [],
   "source": [
    "fee_u2 = fee_mean.loc[int(len(fee_mean['2_total_fee'])*3/4), '2_total_fee']\n",
    "fee_l2 = fee_mean.loc[int(len(fee_mean['2_total_fee'])/4), '2_total_fee']\n",
    "iqr2 = fee_u2-fee_l2\n",
    "upper_bound2 = fee_u2 + 1.5*iqr2\n",
    "lower_bound2 = fee_l2 - 1.5*iqr2"
   ]
  },
  {
   "cell_type": "code",
   "execution_count": 1008,
   "metadata": {},
   "outputs": [],
   "source": [
    "fee_u3 = fee_mean.loc[int(len(fee_mean['3_total_fee'])*3/4), '3_total_fee']\n",
    "fee_l3 = fee_mean.loc[int(len(fee_mean['3_total_fee'])/4), '3_total_fee']\n",
    "iqr3 = fee_u3-fee_l3\n",
    "upper_bound3 = fee_u3 + 1.5*iqr3\n",
    "lower_bound3 = fee_l3 - 1.5*iqr3"
   ]
  },
  {
   "cell_type": "code",
   "execution_count": 1009,
   "metadata": {},
   "outputs": [],
   "source": [
    "fee_u4 = fee_mean.loc[int(len(fee_mean['4_total_fee'])*3/4), '4_total_fee']\n",
    "fee_l4 = fee_mean.loc[int(len(fee_mean['4_total_fee'])/4), '4_total_fee']\n",
    "iqr4 = fee_u4-fee_l4\n",
    "upper_bound4 = fee_u4 + 1.5*iqr4\n",
    "lower_bound4 = fee_l4 - 1.5*iqr4"
   ]
  },
  {
   "cell_type": "code",
   "execution_count": 1010,
   "metadata": {},
   "outputs": [],
   "source": [
    "fee1_upout = fee_mean[fee_mean['1_total_fee']>upper_bound1].index.tolist()\n",
    "fee1_lowout = fee_mean[fee_mean['1_total_fee']<lower_bound1].index.tolist()\n",
    "fee2_upout = fee_mean[fee_mean['2_total_fee']>upper_bound2].index.tolist()\n",
    "fee2_lowout = fee_mean[fee_mean['2_total_fee']<lower_bound2].index.tolist()\n",
    "fee3_upout = fee_mean[fee_mean['3_total_fee']>upper_bound3].index.tolist()\n",
    "fee3_lowout = fee_mean[fee_mean['3_total_fee']<lower_bound3].index.tolist()\n",
    "fee4_upout = fee_mean[fee_mean['4_total_fee']>upper_bound4].index.tolist()\n",
    "fee4_lowout = fee_mean[fee_mean['4_total_fee']<lower_bound4].index.tolist()"
   ]
  },
  {
   "cell_type": "code",
   "execution_count": 1060,
   "metadata": {},
   "outputs": [],
   "source": [
    "test['1_out_fee'] = 0\n",
    "test['2_out_fee'] = 0\n",
    "test['3_out_fee'] = 0\n",
    "test['4_out_fee'] = 0\n",
    "test['1_out_fee'][fee1_upout] = 1\n",
    "test['2_out_fee'][fee2_upout] = 1\n",
    "test['3_out_fee'][fee3_upout] = 1\n",
    "test['4_out_fee'][fee4_upout] = 1\n",
    "test['1_out_fee'][fee1_lowout] = -1\n",
    "test['2_out_fee'][fee2_lowout] = -1\n",
    "test['3_out_fee'][fee3_lowout] = -1\n",
    "test['4_out_fee'][fee4_lowout] = -1"
   ]
  },
  {
   "cell_type": "code",
   "execution_count": 1247,
   "metadata": {},
   "outputs": [],
   "source": [
    "test = test.drop(['former_complaint_fee', 'former_complaint_num'], axis=1)"
   ]
  },
  {
   "cell_type": "code",
   "execution_count": 1248,
   "metadata": {},
   "outputs": [],
   "source": [
    "test.to_csv('test_pre.csv', index=False)"
   ]
  },
  {
   "cell_type": "code",
   "execution_count": 1249,
   "metadata": {},
   "outputs": [
    {
     "name": "stdout",
     "output_type": "stream",
     "text": [
      "<class 'pandas.core.frame.DataFrame'>\n",
      "Int64Index: 743974 entries, 0 to 743973\n",
      "Data columns (total 54 columns):\n",
      "service_type            743974 non-null int64\n",
      "online_time             743974 non-null int64\n",
      "1_total_fee             743974 non-null float64\n",
      "2_total_fee             743974 non-null float64\n",
      "3_total_fee             743974 non-null float64\n",
      "4_total_fee             743974 non-null float64\n",
      "month_traffic           743974 non-null float64\n",
      "contract_time           743974 non-null int64\n",
      "pay_times               743974 non-null int64\n",
      "pay_num                 743974 non-null float64\n",
      "last_month_traffic      743974 non-null float64\n",
      "local_trafffic_month    743974 non-null float64\n",
      "local_caller_time       743974 non-null float64\n",
      "service1_caller_time    743974 non-null float64\n",
      "service2_caller_time    743974 non-null float64\n",
      "gender                  743974 non-null object\n",
      "age                     743974 non-null object\n",
      "current_service         743974 non-null int64\n",
      "user_id                 743974 non-null object\n",
      "fee_mean                743974 non-null float64\n",
      "fee_median              743974 non-null float64\n",
      "fee_max                 743974 non-null float64\n",
      "fee_min                 743974 non-null float64\n",
      "every_pay               743974 non-null float64\n",
      "this_month_traffic      743974 non-null float64\n",
      "actual_1_total_fee      743974 non-null float64\n",
      "total_fee1              743974 non-null float64\n",
      "total_fee2              743974 non-null float64\n",
      "total_fee3              743974 non-null float64\n",
      "total_fee4              743974 non-null float64\n",
      "total_min3              743974 non-null float64\n",
      "total_min4              743974 non-null float64\n",
      "is_mix_service_0        743974 non-null uint8\n",
      "is_mix_service_1        743974 non-null uint8\n",
      "many_over_bill_0        743974 non-null uint8\n",
      "many_over_bill_1        743974 non-null uint8\n",
      "contract_type_0         743974 non-null uint8\n",
      "contract_type_1         743974 non-null uint8\n",
      "contract_type_2         743974 non-null uint8\n",
      "contract_type_3         743974 non-null uint8\n",
      "contract_type_6         743974 non-null uint8\n",
      "contract_type_7         743974 non-null uint8\n",
      "contract_type_9         743974 non-null uint8\n",
      "contract_type_12        743974 non-null uint8\n",
      "low_consume_0           743974 non-null uint8\n",
      "low_consume_1           743974 non-null uint8\n",
      "low_consume_2           743974 non-null uint8\n",
      "low_consume_3           743974 non-null uint8\n",
      "low_consume_4           743974 non-null uint8\n",
      "low_consume_9           743974 non-null uint8\n",
      "complaint_level_0       743974 non-null uint8\n",
      "complaint_level_1       743974 non-null uint8\n",
      "complaint_level_2       743974 non-null uint8\n",
      "complaint_level_3       743974 non-null uint8\n",
      "dtypes: float64(24), int64(5), object(3), uint8(22)\n",
      "memory usage: 202.9+ MB\n"
     ]
    }
   ],
   "source": [
    "train.info()"
   ]
  },
  {
   "cell_type": "code",
   "execution_count": 1250,
   "metadata": {},
   "outputs": [
    {
     "name": "stdout",
     "output_type": "stream",
     "text": [
      "<class 'pandas.core.frame.DataFrame'>\n",
      "Int64Index: 200000 entries, 0 to 199999\n",
      "Data columns (total 53 columns):\n",
      "service_type            200000 non-null int64\n",
      "online_time             200000 non-null int64\n",
      "1_total_fee             200000 non-null float64\n",
      "2_total_fee             200000 non-null float64\n",
      "3_total_fee             200000 non-null float64\n",
      "4_total_fee             200000 non-null float64\n",
      "month_traffic           200000 non-null float64\n",
      "contract_time           200000 non-null int64\n",
      "pay_times               200000 non-null int64\n",
      "pay_num                 200000 non-null float64\n",
      "last_month_traffic      200000 non-null float64\n",
      "local_trafffic_month    200000 non-null float64\n",
      "local_caller_time       200000 non-null float64\n",
      "service1_caller_time    200000 non-null float64\n",
      "service2_caller_time    200000 non-null float64\n",
      "gender                  200000 non-null int64\n",
      "age                     200000 non-null int64\n",
      "user_id                 200000 non-null object\n",
      "fee_mean                200000 non-null float64\n",
      "fee_median              200000 non-null float64\n",
      "fee_max                 200000 non-null float64\n",
      "fee_min                 200000 non-null float64\n",
      "every_pay               200000 non-null float64\n",
      "this_month_traffic      200000 non-null float64\n",
      "actual_1_total_fee      200000 non-null float64\n",
      "total_fee1              200000 non-null float64\n",
      "total_fee2              200000 non-null float64\n",
      "total_fee3              200000 non-null float64\n",
      "total_fee4              200000 non-null float64\n",
      "total_min3              200000 non-null float64\n",
      "total_min4              200000 non-null float64\n",
      "is_mix_service_0        200000 non-null uint8\n",
      "is_mix_service_1        200000 non-null uint8\n",
      "many_over_bill_0        200000 non-null uint8\n",
      "many_over_bill_1        200000 non-null uint8\n",
      "contract_type_0         200000 non-null uint8\n",
      "contract_type_1         200000 non-null uint8\n",
      "contract_type_2         200000 non-null uint8\n",
      "contract_type_3         200000 non-null uint8\n",
      "contract_type_6         200000 non-null uint8\n",
      "contract_type_7         200000 non-null uint8\n",
      "contract_type_9         200000 non-null uint8\n",
      "contract_type_12        200000 non-null uint8\n",
      "low_consume_0           200000 non-null uint8\n",
      "low_consume_1           200000 non-null uint8\n",
      "low_consume_2           200000 non-null uint8\n",
      "low_consume_3           200000 non-null uint8\n",
      "low_consume_4           200000 non-null uint8\n",
      "low_consume_9           200000 non-null uint8\n",
      "complaint_level_0       200000 non-null uint8\n",
      "complaint_level_1       200000 non-null uint8\n",
      "complaint_level_2       200000 non-null uint8\n",
      "complaint_level_3       200000 non-null uint8\n",
      "dtypes: float64(24), int64(6), object(1), uint8(22)\n",
      "memory usage: 53.0+ MB\n"
     ]
    }
   ],
   "source": [
    "test.info()"
   ]
  },
  {
   "cell_type": "code",
   "execution_count": 184,
   "metadata": {},
   "outputs": [],
   "source": [
    "# test['this_month_traffic'] = test['month_traffic'] - test['last_month_traffic']\n",
    "# test['outland_traffic_month'] = test['this_month_traffic'] - test['local_trafffic_month']\n",
    "# test['is_0'] = (test['month_traffic'] \n",
    "#                          == 0)&(test['last_month_traffic'] == 0)&(test['local_trafffic_month']==0)"
   ]
  },
  {
   "cell_type": "code",
   "execution_count": 185,
   "metadata": {},
   "outputs": [],
   "source": [
    "# test['no_call'] = ((test['local_caller_time'] == 0)&\n",
    "#                            (test['service1_caller_time'] == 0)&\n",
    "#                            (test['service2_caller_time'] == 0)).astype(int)\n",
    "# test['no_service_but_call'] = ((test['local_caller_time'] == 0)&\n",
    "#                                         (test['service1_caller_time'] > 0)|\n",
    "#                                         (test['service2_caller_time'] > 0)).astype(int)\n",
    "# test['no_traffic'] = (test['last_month_traffic'] == test['month_traffic']).astype(int)"
   ]
  },
  {
   "cell_type": "code",
   "execution_count": 186,
   "metadata": {},
   "outputs": [],
   "source": [
    "# test['out_traffic'] = test['month_traffic'] - test['local_trafffic_month']\n",
    "# test['last_no_out'] = ((test['last_month_traffic'] > 0)& (test['service2_caller_time'] == 0)).astype(int)\n",
    "# test['last_no_change_type'] = (test['last_month_traffic'] > 0).astype(int)\n",
    "# test['now_right_fee'] = test['last_no_change_type']*test['2_total_fee']\n",
    "# del test['last_no_change_type']"
   ]
  },
  {
   "cell_type": "code",
   "execution_count": 188,
   "metadata": {},
   "outputs": [],
   "source": [
    "# test['12_fee'] = test['1_total_fee'] - test['2_total_fee']\n",
    "# test['23_fee'] = test['2_total_fee'] - test['3_total_fee']\n",
    "# test['34_fee'] = test['3_total_fee'] - test['4_total_fee']"
   ]
  },
  {
   "cell_type": "code",
   "execution_count": 200,
   "metadata": {},
   "outputs": [],
   "source": [
    "# test['remain_fee'] = test['1_total_fee'] - test['month_traffic']*0.3\n",
    "# test['base_fee'] = (test['month_traffic']-test['last_month_traffic'])*0.3+test['local_caller_time']*0.15\n",
    "# test['last_remain_fee'] = test['2_total_fee'] - test['service1_caller_time']*0.15\n",
    "# test['last2_remain_fee'] = test['3_total_fee'] - test['service2_caller_time']*0.15"
   ]
  },
  {
   "cell_type": "code",
   "execution_count": 192,
   "metadata": {},
   "outputs": [],
   "source": [
    "# test['fee_to1'] = (test['1_total_fee']-test['fee_mean'])/test['fee_var']\n",
    "# test['fee_to2'] = (test['2_total_fee']-test['fee_mean'])/test['fee_var']\n",
    "# test['fee_to3'] = (test['3_total_fee']-test['fee_mean'])/test['fee_var']\n",
    "# test['fee_to4'] = (test['4_total_fee']-test['fee_mean'])/test['fee_var']"
   ]
  },
  {
   "cell_type": "code",
   "execution_count": null,
   "metadata": {},
   "outputs": [],
   "source": []
  },
  {
   "cell_type": "code",
   "execution_count": 117,
   "metadata": {},
   "outputs": [],
   "source": [
    "# test['1_total_fee'] = test['1_total_fee'].apply(lambda x: np.sqrt(x))\n",
    "# test['2_total_fee'] = test['2_total_fee'].apply(lambda x: np.sqrt(x))\n",
    "# test['3_total_fee'] = test['3_total_fee'].apply(lambda x: np.sqrt(x))\n",
    "# test['4_total_fee'] = test['4_total_fee'].apply(lambda x: np.sqrt(x))"
   ]
  },
  {
   "cell_type": "code",
   "execution_count": null,
   "metadata": {},
   "outputs": [],
   "source": []
  }
 ],
 "metadata": {
  "kernelspec": {
   "display_name": "Python 3",
   "language": "python",
   "name": "python3"
  },
  "language_info": {
   "codemirror_mode": {
    "name": "ipython",
    "version": 3
   },
   "file_extension": ".py",
   "mimetype": "text/x-python",
   "name": "python",
   "nbconvert_exporter": "python",
   "pygments_lexer": "ipython3",
   "version": "3.6.5"
  },
  "toc": {
   "base_numbering": 1,
   "nav_menu": {},
   "number_sections": true,
   "sideBar": true,
   "skip_h1_title": false,
   "title_cell": "Table of Contents",
   "title_sidebar": "Contents",
   "toc_cell": false,
   "toc_position": {
    "height": "calc(100% - 180px)",
    "left": "10px",
    "top": "150px",
    "width": "165px"
   },
   "toc_section_display": true,
   "toc_window_display": false
  },
  "varInspector": {
   "cols": {
    "lenName": 16,
    "lenType": 16,
    "lenVar": 40
   },
   "kernels_config": {
    "python": {
     "delete_cmd_postfix": "",
     "delete_cmd_prefix": "del ",
     "library": "var_list.py",
     "varRefreshCmd": "print(var_dic_list())"
    },
    "r": {
     "delete_cmd_postfix": ") ",
     "delete_cmd_prefix": "rm(",
     "library": "var_list.r",
     "varRefreshCmd": "cat(var_dic_list()) "
    }
   },
   "types_to_exclude": [
    "module",
    "function",
    "builtin_function_or_method",
    "instance",
    "_Feature"
   ],
   "window_display": false
  }
 },
 "nbformat": 4,
 "nbformat_minor": 2
}
