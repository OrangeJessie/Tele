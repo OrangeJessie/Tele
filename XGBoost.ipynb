{
 "cells": [
  {
   "cell_type": "code",
   "execution_count": 1,
   "metadata": {},
   "outputs": [],
   "source": [
    "import xgboost as xgb\n",
    "import pandas as pd\n",
    "import numpy as np\n",
    "\n",
    "pd.set_option('max_columns', 100)\n",
    "pd.set_option('max_rows', 200)"
   ]
  },
  {
   "cell_type": "markdown",
   "metadata": {},
   "source": [
    "# 训练集"
   ]
  },
  {
   "cell_type": "code",
   "execution_count": 2,
   "metadata": {},
   "outputs": [],
   "source": [
    "train4 = pd.read_csv('train4.csv')"
   ]
  },
  {
   "cell_type": "code",
   "execution_count": 3,
   "metadata": {},
   "outputs": [
    {
     "name": "stdout",
     "output_type": "stream",
     "text": [
      "<class 'pandas.core.frame.DataFrame'>\n",
      "RangeIndex: 332956 entries, 0 to 332955\n",
      "Data columns (total 27 columns):\n",
      "service_type              332956 non-null int64\n",
      "is_mix_service            332956 non-null int64\n",
      "online_time               332956 non-null int64\n",
      "1_total_fee               332956 non-null float64\n",
      "2_total_fee               332956 non-null float64\n",
      "3_total_fee               332956 non-null float64\n",
      "4_total_fee               332956 non-null float64\n",
      "month_traffic             332956 non-null float64\n",
      "many_over_bill            332956 non-null int64\n",
      "contract_type             332956 non-null int64\n",
      "contract_time             332956 non-null int64\n",
      "is_promise_low_consume    332956 non-null int64\n",
      "net_service               332956 non-null int64\n",
      "pay_times                 332956 non-null int64\n",
      "pay_num                   332956 non-null float64\n",
      "last_month_traffic        332956 non-null float64\n",
      "local_trafffic_month      332956 non-null float64\n",
      "local_caller_time         332956 non-null float64\n",
      "service1_caller_time      332956 non-null float64\n",
      "service2_caller_time      332956 non-null float64\n",
      "gender                    332956 non-null int64\n",
      "age                       332956 non-null int64\n",
      "complaint_level           332956 non-null int64\n",
      "former_complaint_num      332956 non-null int64\n",
      "former_complaint_fee      332956 non-null float64\n",
      "current_service           332956 non-null int64\n",
      "user_id                   332956 non-null object\n",
      "dtypes: float64(12), int64(14), object(1)\n",
      "memory usage: 68.6+ MB\n"
     ]
    }
   ],
   "source": [
    "train4.info()"
   ]
  },
  {
   "cell_type": "code",
   "execution_count": 4,
   "metadata": {},
   "outputs": [],
   "source": [
    "train4_id = train4[['user_id']]\n",
    "train4_y = train4[['current_service']]\n",
    "train4_x = train4.drop(['service_type', 'user_id', 'current_service'], axis=1)\n",
    "train4_feature = train4_x.columns"
   ]
  },
  {
   "cell_type": "code",
   "execution_count": 5,
   "metadata": {},
   "outputs": [],
   "source": [
    "from sklearn.preprocessing import LabelEncoder\n",
    "le4 = LabelEncoder()\n",
    "train4_y_le = le4.fit_transform(train4_y['current_service'])"
   ]
  },
  {
   "cell_type": "code",
   "execution_count": 6,
   "metadata": {},
   "outputs": [],
   "source": [
    "train4_x_stand = train4_x"
   ]
  },
  {
   "cell_type": "code",
   "execution_count": 7,
   "metadata": {},
   "outputs": [],
   "source": [
    "train4_tra_x = train4_x_stand[1:int(4/5*len(train4_x_stand))]\n",
    "train4_val_x = train4_x_stand[int(4/5*len(train4_x_stand)):]"
   ]
  },
  {
   "cell_type": "code",
   "execution_count": 8,
   "metadata": {},
   "outputs": [],
   "source": [
    "train4_tra_y = train4_y_le[1:int(4/5*len(train4_x_stand))]\n",
    "train4_val_y = train4_y_le[int(4/5*len(train4_x_stand)):]"
   ]
  },
  {
   "cell_type": "code",
   "execution_count": 9,
   "metadata": {},
   "outputs": [],
   "source": [
    "def XGB():\n",
    "    clf = xgb.XGBClassifier(max_depth=12, learning_rate=0.1,\n",
    "                            n_estimators=752, silent=True,\n",
    "                            objective=\"multi:softmax\",\n",
    "                            nthread=4, gamma=0,\n",
    "                            max_delta_step=0, subsample=1, colsample_bytree=0.9, colsample_bylevel=0.9,\n",
    "                            reg_alpha=1, reg_lambda=1, scale_pos_weight=1,\n",
    "                            base_score=0.5, seed=2018, missing=None,num_class=11)\n",
    "    return clf"
   ]
  },
  {
   "cell_type": "code",
   "execution_count": 10,
   "metadata": {
    "scrolled": true
   },
   "outputs": [
    {
     "name": "stdout",
     "output_type": "stream",
     "text": [
      "[0]\tvalidation_0-merror:0.186839\n",
      "[1]\tvalidation_0-merror:0.169044\n",
      "[2]\tvalidation_0-merror:0.160395\n",
      "[3]\tvalidation_0-merror:0.1561\n",
      "[4]\tvalidation_0-merror:0.153937\n",
      "[5]\tvalidation_0-merror:0.152331\n",
      "[6]\tvalidation_0-merror:0.151024\n",
      "[7]\tvalidation_0-merror:0.148606\n",
      "[8]\tvalidation_0-merror:0.148081\n",
      "[9]\tvalidation_0-merror:0.146249\n",
      "[10]\tvalidation_0-merror:0.145168\n",
      "[11]\tvalidation_0-merror:0.144522\n",
      "[12]\tvalidation_0-merror:0.143516\n",
      "[13]\tvalidation_0-merror:0.14278\n",
      "[14]\tvalidation_0-merror:0.142104\n",
      "[15]\tvalidation_0-merror:0.141428\n",
      "[16]\tvalidation_0-merror:0.140437\n",
      "[17]\tvalidation_0-merror:0.140257\n",
      "[18]\tvalidation_0-merror:0.139281\n",
      "[19]\tvalidation_0-merror:0.13832\n",
      "[20]\tvalidation_0-merror:0.137719\n",
      "[21]\tvalidation_0-merror:0.137059\n",
      "[22]\tvalidation_0-merror:0.136698\n",
      "[23]\tvalidation_0-merror:0.135797\n",
      "[24]\tvalidation_0-merror:0.135317\n",
      "[25]\tvalidation_0-merror:0.134671\n",
      "[26]\tvalidation_0-merror:0.13407\n",
      "[27]\tvalidation_0-merror:0.133439\n",
      "[28]\tvalidation_0-merror:0.133289\n",
      "[29]\tvalidation_0-merror:0.132568\n",
      "[30]\tvalidation_0-merror:0.132493\n",
      "[31]\tvalidation_0-merror:0.132028\n",
      "[32]\tvalidation_0-merror:0.131728\n",
      "[33]\tvalidation_0-merror:0.131337\n",
      "[34]\tvalidation_0-merror:0.130827\n",
      "[35]\tvalidation_0-merror:0.130616\n",
      "[36]\tvalidation_0-merror:0.130196\n",
      "[37]\tvalidation_0-merror:0.130166\n",
      "[38]\tvalidation_0-merror:0.129986\n",
      "[39]\tvalidation_0-merror:0.12958\n",
      "[40]\tvalidation_0-merror:0.12928\n",
      "[41]\tvalidation_0-merror:0.129009\n",
      "[42]\tvalidation_0-merror:0.128439\n",
      "[43]\tvalidation_0-merror:0.127778\n",
      "[44]\tvalidation_0-merror:0.127583\n",
      "[45]\tvalidation_0-merror:0.127268\n",
      "[46]\tvalidation_0-merror:0.127057\n",
      "[47]\tvalidation_0-merror:0.126367\n",
      "[48]\tvalidation_0-merror:0.126352\n",
      "[49]\tvalidation_0-merror:0.126171\n",
      "[50]\tvalidation_0-merror:0.125841\n",
      "[51]\tvalidation_0-merror:0.125736\n",
      "[52]\tvalidation_0-merror:0.12542\n",
      "[53]\tvalidation_0-merror:0.12485\n",
      "[54]\tvalidation_0-merror:0.124625\n",
      "[55]\tvalidation_0-merror:0.124595\n",
      "[56]\tvalidation_0-merror:0.124414\n",
      "[57]\tvalidation_0-merror:0.124234\n",
      "[58]\tvalidation_0-merror:0.124084\n",
      "[59]\tvalidation_0-merror:0.124039\n",
      "[60]\tvalidation_0-merror:0.123588\n",
      "[61]\tvalidation_0-merror:0.123093\n",
      "[62]\tvalidation_0-merror:0.123063\n",
      "[63]\tvalidation_0-merror:0.122672\n",
      "[64]\tvalidation_0-merror:0.122627\n",
      "[65]\tvalidation_0-merror:0.122312\n",
      "[66]\tvalidation_0-merror:0.122237\n",
      "[67]\tvalidation_0-merror:0.122102\n",
      "[68]\tvalidation_0-merror:0.121861\n",
      "[69]\tvalidation_0-merror:0.121726\n",
      "[70]\tvalidation_0-merror:0.121516\n",
      "[71]\tvalidation_0-merror:0.121171\n",
      "[72]\tvalidation_0-merror:0.12096\n",
      "[73]\tvalidation_0-merror:0.12093\n",
      "[74]\tvalidation_0-merror:0.12048\n",
      "[75]\tvalidation_0-merror:0.12018\n",
      "[76]\tvalidation_0-merror:0.120059\n",
      "[77]\tvalidation_0-merror:0.119939\n",
      "[78]\tvalidation_0-merror:0.119954\n",
      "[79]\tvalidation_0-merror:0.119384\n",
      "[80]\tvalidation_0-merror:0.119279\n",
      "[81]\tvalidation_0-merror:0.119158\n",
      "[82]\tvalidation_0-merror:0.119158\n",
      "[83]\tvalidation_0-merror:0.118933\n",
      "[84]\tvalidation_0-merror:0.118918\n",
      "[85]\tvalidation_0-merror:0.118813\n",
      "[86]\tvalidation_0-merror:0.118573\n",
      "[87]\tvalidation_0-merror:0.118363\n",
      "[88]\tvalidation_0-merror:0.118032\n",
      "[89]\tvalidation_0-merror:0.117957\n",
      "[90]\tvalidation_0-merror:0.117747\n",
      "[91]\tvalidation_0-merror:0.117717\n",
      "[92]\tvalidation_0-merror:0.117251\n",
      "[93]\tvalidation_0-merror:0.117206\n",
      "[94]\tvalidation_0-merror:0.116951\n",
      "[95]\tvalidation_0-merror:0.116876\n",
      "[96]\tvalidation_0-merror:0.116831\n",
      "[97]\tvalidation_0-merror:0.116711\n",
      "[98]\tvalidation_0-merror:0.116651\n",
      "[99]\tvalidation_0-merror:0.11638\n",
      "[100]\tvalidation_0-merror:0.116395\n",
      "[101]\tvalidation_0-merror:0.11623\n",
      "[102]\tvalidation_0-merror:0.116095\n",
      "[103]\tvalidation_0-merror:0.115765\n",
      "[104]\tvalidation_0-merror:0.115584\n",
      "[105]\tvalidation_0-merror:0.115614\n",
      "[106]\tvalidation_0-merror:0.115539\n",
      "[107]\tvalidation_0-merror:0.115404\n",
      "[108]\tvalidation_0-merror:0.115104\n",
      "[109]\tvalidation_0-merror:0.114894\n",
      "[110]\tvalidation_0-merror:0.114774\n",
      "[111]\tvalidation_0-merror:0.114518\n",
      "[112]\tvalidation_0-merror:0.114683\n",
      "[113]\tvalidation_0-merror:0.114473\n",
      "[114]\tvalidation_0-merror:0.114128\n",
      "[115]\tvalidation_0-merror:0.114008\n",
      "[116]\tvalidation_0-merror:0.113948\n",
      "[117]\tvalidation_0-merror:0.113737\n",
      "[118]\tvalidation_0-merror:0.113782\n",
      "[119]\tvalidation_0-merror:0.113677\n",
      "[120]\tvalidation_0-merror:0.113602\n",
      "[121]\tvalidation_0-merror:0.113692\n",
      "[122]\tvalidation_0-merror:0.113527\n",
      "[123]\tvalidation_0-merror:0.113422\n",
      "[124]\tvalidation_0-merror:0.113317\n",
      "[125]\tvalidation_0-merror:0.113212\n",
      "[126]\tvalidation_0-merror:0.113257\n",
      "[127]\tvalidation_0-merror:0.113332\n",
      "[128]\tvalidation_0-merror:0.113077\n",
      "[129]\tvalidation_0-merror:0.112957\n",
      "[130]\tvalidation_0-merror:0.112836\n",
      "[131]\tvalidation_0-merror:0.112716\n",
      "[132]\tvalidation_0-merror:0.112791\n",
      "[133]\tvalidation_0-merror:0.112896\n",
      "[134]\tvalidation_0-merror:0.112566\n",
      "[135]\tvalidation_0-merror:0.112296\n",
      "[136]\tvalidation_0-merror:0.112221\n",
      "[137]\tvalidation_0-merror:0.112311\n",
      "[138]\tvalidation_0-merror:0.112071\n",
      "[139]\tvalidation_0-merror:0.11198\n",
      "[140]\tvalidation_0-merror:0.11183\n",
      "[141]\tvalidation_0-merror:0.111905\n",
      "[142]\tvalidation_0-merror:0.11189\n",
      "[143]\tvalidation_0-merror:0.11177\n",
      "[144]\tvalidation_0-merror:0.11156\n",
      "[145]\tvalidation_0-merror:0.11159\n",
      "[146]\tvalidation_0-merror:0.11168\n",
      "[147]\tvalidation_0-merror:0.1115\n",
      "[148]\tvalidation_0-merror:0.111245\n",
      "[149]\tvalidation_0-merror:0.111079\n",
      "[150]\tvalidation_0-merror:0.111019\n",
      "[151]\tvalidation_0-merror:0.110764\n",
      "[152]\tvalidation_0-merror:0.110749\n",
      "[153]\tvalidation_0-merror:0.110599\n",
      "[154]\tvalidation_0-merror:0.110569\n",
      "[155]\tvalidation_0-merror:0.110389\n",
      "[156]\tvalidation_0-merror:0.110404\n",
      "[157]\tvalidation_0-merror:0.110148\n",
      "[158]\tvalidation_0-merror:0.110103\n",
      "[159]\tvalidation_0-merror:0.110088\n",
      "[160]\tvalidation_0-merror:0.110088\n",
      "[161]\tvalidation_0-merror:0.109998\n",
      "[162]\tvalidation_0-merror:0.109998\n",
      "[163]\tvalidation_0-merror:0.110028\n",
      "[164]\tvalidation_0-merror:0.109803\n",
      "[165]\tvalidation_0-merror:0.109848\n",
      "[166]\tvalidation_0-merror:0.109803\n",
      "[167]\tvalidation_0-merror:0.109803\n",
      "[168]\tvalidation_0-merror:0.109818\n",
      "[169]\tvalidation_0-merror:0.109788\n",
      "[170]\tvalidation_0-merror:0.109713\n",
      "[171]\tvalidation_0-merror:0.109563\n",
      "[172]\tvalidation_0-merror:0.109518\n",
      "[173]\tvalidation_0-merror:0.109473\n",
      "[174]\tvalidation_0-merror:0.109443\n",
      "[175]\tvalidation_0-merror:0.109097\n",
      "[176]\tvalidation_0-merror:0.109082\n",
      "[177]\tvalidation_0-merror:0.109202\n",
      "[178]\tvalidation_0-merror:0.109217\n",
      "[179]\tvalidation_0-merror:0.108797\n",
      "[180]\tvalidation_0-merror:0.109007\n",
      "[181]\tvalidation_0-merror:0.108707\n",
      "[182]\tvalidation_0-merror:0.108617\n",
      "[183]\tvalidation_0-merror:0.108512\n",
      "[184]\tvalidation_0-merror:0.108692\n",
      "[185]\tvalidation_0-merror:0.108632\n",
      "[186]\tvalidation_0-merror:0.108542\n",
      "[187]\tvalidation_0-merror:0.108572\n",
      "[188]\tvalidation_0-merror:0.108572\n",
      "[189]\tvalidation_0-merror:0.108602\n",
      "[190]\tvalidation_0-merror:0.108421\n",
      "[191]\tvalidation_0-merror:0.108301\n",
      "[192]\tvalidation_0-merror:0.108256\n",
      "[193]\tvalidation_0-merror:0.108136\n",
      "[194]\tvalidation_0-merror:0.108151\n",
      "[195]\tvalidation_0-merror:0.108091\n",
      "[196]\tvalidation_0-merror:0.108271\n",
      "[197]\tvalidation_0-merror:0.108211\n",
      "[198]\tvalidation_0-merror:0.108136\n",
      "[199]\tvalidation_0-merror:0.108076\n",
      "[200]\tvalidation_0-merror:0.107911\n",
      "[201]\tvalidation_0-merror:0.107821\n",
      "[202]\tvalidation_0-merror:0.107791\n",
      "[203]\tvalidation_0-merror:0.107701\n",
      "[204]\tvalidation_0-merror:0.107866\n",
      "[205]\tvalidation_0-merror:0.107866\n",
      "[206]\tvalidation_0-merror:0.107896\n",
      "[207]\tvalidation_0-merror:0.107731\n",
      "[208]\tvalidation_0-merror:0.107626\n",
      "[209]\tvalidation_0-merror:0.107656\n",
      "[210]\tvalidation_0-merror:0.107565\n",
      "[211]\tvalidation_0-merror:0.10743\n",
      "[212]\tvalidation_0-merror:0.107385\n",
      "[213]\tvalidation_0-merror:0.107535\n",
      "[214]\tvalidation_0-merror:0.107295\n",
      "[215]\tvalidation_0-merror:0.10707\n",
      "[216]\tvalidation_0-merror:0.10695\n",
      "[217]\tvalidation_0-merror:0.107085\n",
      "[218]\tvalidation_0-merror:0.10707\n",
      "[219]\tvalidation_0-merror:0.10692\n",
      "[220]\tvalidation_0-merror:0.10704\n",
      "[221]\tvalidation_0-merror:0.107055\n",
      "[222]\tvalidation_0-merror:0.106905\n",
      "[223]\tvalidation_0-merror:0.10692\n",
      "[224]\tvalidation_0-merror:0.106905\n",
      "[225]\tvalidation_0-merror:0.106965\n",
      "[226]\tvalidation_0-merror:0.10686\n",
      "[227]\tvalidation_0-merror:0.106905\n",
      "[228]\tvalidation_0-merror:0.1068\n",
      "[229]\tvalidation_0-merror:0.106755\n",
      "[230]\tvalidation_0-merror:0.106694\n",
      "[231]\tvalidation_0-merror:0.106725\n",
      "[232]\tvalidation_0-merror:0.106725\n",
      "[233]\tvalidation_0-merror:0.10677\n",
      "[234]\tvalidation_0-merror:0.106755\n",
      "[235]\tvalidation_0-merror:0.106785\n",
      "[236]\tvalidation_0-merror:0.106785\n",
      "[237]\tvalidation_0-merror:0.106755\n",
      "[238]\tvalidation_0-merror:0.106785\n"
     ]
    },
    {
     "ename": "KeyboardInterrupt",
     "evalue": "",
     "output_type": "error",
     "traceback": [
      "\u001b[1;31m---------------------------------------------------------------------------\u001b[0m",
      "\u001b[1;31mKeyboardInterrupt\u001b[0m                         Traceback (most recent call last)",
      "\u001b[1;32m<ipython-input-10-c3a3c6296883>\u001b[0m in \u001b[0;36m<module>\u001b[1;34m()\u001b[0m\n\u001b[0;32m      1\u001b[0m \u001b[0mxgb4\u001b[0m \u001b[1;33m=\u001b[0m \u001b[0mXGB\u001b[0m\u001b[1;33m(\u001b[0m\u001b[1;33m)\u001b[0m\u001b[1;33m\u001b[0m\u001b[0m\n\u001b[1;32m----> 2\u001b[1;33m \u001b[0mxgb4\u001b[0m\u001b[1;33m.\u001b[0m\u001b[0mfit\u001b[0m\u001b[1;33m(\u001b[0m\u001b[0mtrain4_tra_x\u001b[0m\u001b[1;33m,\u001b[0m \u001b[0mtrain4_tra_y\u001b[0m\u001b[1;33m,\u001b[0m \u001b[0meval_set\u001b[0m\u001b[1;33m=\u001b[0m\u001b[1;33m[\u001b[0m\u001b[1;33m(\u001b[0m\u001b[0mtrain4_val_x\u001b[0m\u001b[1;33m,\u001b[0m \u001b[0mtrain4_val_y\u001b[0m\u001b[1;33m)\u001b[0m\u001b[1;33m]\u001b[0m\u001b[1;33m,\u001b[0m \u001b[0mverbose\u001b[0m\u001b[1;33m=\u001b[0m\u001b[1;36m1\u001b[0m\u001b[1;33m,\u001b[0m\u001b[1;33m)\u001b[0m\u001b[1;33m\u001b[0m\u001b[0m\n\u001b[0m",
      "\u001b[1;32mD:\\anaconda\\lib\\site-packages\\xgboost\\sklearn.py\u001b[0m in \u001b[0;36mfit\u001b[1;34m(self, X, y, sample_weight, eval_set, eval_metric, early_stopping_rounds, verbose, xgb_model, sample_weight_eval_set)\u001b[0m\n\u001b[0;32m    519\u001b[0m                               \u001b[0mearly_stopping_rounds\u001b[0m\u001b[1;33m=\u001b[0m\u001b[0mearly_stopping_rounds\u001b[0m\u001b[1;33m,\u001b[0m\u001b[1;33m\u001b[0m\u001b[0m\n\u001b[0;32m    520\u001b[0m                               \u001b[0mevals_result\u001b[0m\u001b[1;33m=\u001b[0m\u001b[0mevals_result\u001b[0m\u001b[1;33m,\u001b[0m \u001b[0mobj\u001b[0m\u001b[1;33m=\u001b[0m\u001b[0mobj\u001b[0m\u001b[1;33m,\u001b[0m \u001b[0mfeval\u001b[0m\u001b[1;33m=\u001b[0m\u001b[0mfeval\u001b[0m\u001b[1;33m,\u001b[0m\u001b[1;33m\u001b[0m\u001b[0m\n\u001b[1;32m--> 521\u001b[1;33m                               verbose_eval=verbose, xgb_model=None)\n\u001b[0m\u001b[0;32m    522\u001b[0m \u001b[1;33m\u001b[0m\u001b[0m\n\u001b[0;32m    523\u001b[0m         \u001b[0mself\u001b[0m\u001b[1;33m.\u001b[0m\u001b[0mobjective\u001b[0m \u001b[1;33m=\u001b[0m \u001b[0mxgb_options\u001b[0m\u001b[1;33m[\u001b[0m\u001b[1;34m\"objective\"\u001b[0m\u001b[1;33m]\u001b[0m\u001b[1;33m\u001b[0m\u001b[0m\n",
      "\u001b[1;32mD:\\anaconda\\lib\\site-packages\\xgboost\\training.py\u001b[0m in \u001b[0;36mtrain\u001b[1;34m(params, dtrain, num_boost_round, evals, obj, feval, maximize, early_stopping_rounds, evals_result, verbose_eval, xgb_model, callbacks, learning_rates)\u001b[0m\n\u001b[0;32m    202\u001b[0m                            \u001b[0mevals\u001b[0m\u001b[1;33m=\u001b[0m\u001b[0mevals\u001b[0m\u001b[1;33m,\u001b[0m\u001b[1;33m\u001b[0m\u001b[0m\n\u001b[0;32m    203\u001b[0m                            \u001b[0mobj\u001b[0m\u001b[1;33m=\u001b[0m\u001b[0mobj\u001b[0m\u001b[1;33m,\u001b[0m \u001b[0mfeval\u001b[0m\u001b[1;33m=\u001b[0m\u001b[0mfeval\u001b[0m\u001b[1;33m,\u001b[0m\u001b[1;33m\u001b[0m\u001b[0m\n\u001b[1;32m--> 204\u001b[1;33m                            xgb_model=xgb_model, callbacks=callbacks)\n\u001b[0m\u001b[0;32m    205\u001b[0m \u001b[1;33m\u001b[0m\u001b[0m\n\u001b[0;32m    206\u001b[0m \u001b[1;33m\u001b[0m\u001b[0m\n",
      "\u001b[1;32mD:\\anaconda\\lib\\site-packages\\xgboost\\training.py\u001b[0m in \u001b[0;36m_train_internal\u001b[1;34m(params, dtrain, num_boost_round, evals, obj, feval, xgb_model, callbacks)\u001b[0m\n\u001b[0;32m     72\u001b[0m         \u001b[1;31m# Skip the first update if it is a recovery step.\u001b[0m\u001b[1;33m\u001b[0m\u001b[1;33m\u001b[0m\u001b[0m\n\u001b[0;32m     73\u001b[0m         \u001b[1;32mif\u001b[0m \u001b[0mversion\u001b[0m \u001b[1;33m%\u001b[0m \u001b[1;36m2\u001b[0m \u001b[1;33m==\u001b[0m \u001b[1;36m0\u001b[0m\u001b[1;33m:\u001b[0m\u001b[1;33m\u001b[0m\u001b[0m\n\u001b[1;32m---> 74\u001b[1;33m             \u001b[0mbst\u001b[0m\u001b[1;33m.\u001b[0m\u001b[0mupdate\u001b[0m\u001b[1;33m(\u001b[0m\u001b[0mdtrain\u001b[0m\u001b[1;33m,\u001b[0m \u001b[0mi\u001b[0m\u001b[1;33m,\u001b[0m \u001b[0mobj\u001b[0m\u001b[1;33m)\u001b[0m\u001b[1;33m\u001b[0m\u001b[0m\n\u001b[0m\u001b[0;32m     75\u001b[0m             \u001b[0mbst\u001b[0m\u001b[1;33m.\u001b[0m\u001b[0msave_rabit_checkpoint\u001b[0m\u001b[1;33m(\u001b[0m\u001b[1;33m)\u001b[0m\u001b[1;33m\u001b[0m\u001b[0m\n\u001b[0;32m     76\u001b[0m             \u001b[0mversion\u001b[0m \u001b[1;33m+=\u001b[0m \u001b[1;36m1\u001b[0m\u001b[1;33m\u001b[0m\u001b[0m\n",
      "\u001b[1;32mD:\\anaconda\\lib\\site-packages\\xgboost\\core.py\u001b[0m in \u001b[0;36mupdate\u001b[1;34m(self, dtrain, iteration, fobj)\u001b[0m\n\u001b[0;32m    892\u001b[0m         \u001b[1;32mif\u001b[0m \u001b[0mfobj\u001b[0m \u001b[1;32mis\u001b[0m \u001b[1;32mNone\u001b[0m\u001b[1;33m:\u001b[0m\u001b[1;33m\u001b[0m\u001b[0m\n\u001b[0;32m    893\u001b[0m             _check_call(_LIB.XGBoosterUpdateOneIter(self.handle, ctypes.c_int(iteration),\n\u001b[1;32m--> 894\u001b[1;33m                                                     dtrain.handle))\n\u001b[0m\u001b[0;32m    895\u001b[0m         \u001b[1;32melse\u001b[0m\u001b[1;33m:\u001b[0m\u001b[1;33m\u001b[0m\u001b[0m\n\u001b[0;32m    896\u001b[0m             \u001b[0mpred\u001b[0m \u001b[1;33m=\u001b[0m \u001b[0mself\u001b[0m\u001b[1;33m.\u001b[0m\u001b[0mpredict\u001b[0m\u001b[1;33m(\u001b[0m\u001b[0mdtrain\u001b[0m\u001b[1;33m)\u001b[0m\u001b[1;33m\u001b[0m\u001b[0m\n",
      "\u001b[1;31mKeyboardInterrupt\u001b[0m: "
     ]
    }
   ],
   "source": [
    "xgb4 = XGB()\n",
    "xgb4.fit(train4_tra_x, train4_tra_y, eval_set=[(train4_val_x, train4_val_y)], verbose=1)"
   ]
  },
  {
   "cell_type": "code",
   "execution_count": 26,
   "metadata": {},
   "outputs": [],
   "source": [
    "params={'booster':'gbtree', \n",
    "        'objective': 'multi:softmax', \n",
    "        'eval_metric':'auc', \n",
    "        'gamma':0.1, \n",
    "        'min_child_weight':1.1,\n",
    "        'max_depth':5,\n",
    "        'lambda':10,\n",
    "        'subsample':0.7,\n",
    "        'colsample_bytree':0.7,\n",
    "        'colsample_bylevel':0.7,\n",
    "        'eta': 0.01,\n",
    "        'tree_method':'exact',\n",
    "        'seed':0,\n",
    "        'nthread':12,\n",
    "        'num_class':11}"
   ]
  },
  {
   "cell_type": "code",
   "execution_count": 9,
   "metadata": {},
   "outputs": [],
   "source": [
    "dataset4 = xgb.DMatrix(train4_tra_x, label=train4_tra_y)\n",
    "val_data4 = xgb.DMatrix(train4_val_x)"
   ]
  },
  {
   "cell_type": "code",
   "execution_count": 34,
   "metadata": {},
   "outputs": [],
   "source": [
    "xgb4 = xgb.XGBClassifier(objective='multi:softmax', silent=False, n_jobs=2, n_estimator=200, gamma=0.1, verbose=1)"
   ]
  },
  {
   "cell_type": "code",
   "execution_count": 19,
   "metadata": {},
   "outputs": [
    {
     "data": {
      "text/plain": [
       "XGBClassifier(base_score=0.5, booster='gbtree', colsample_bylevel=1,\n",
       "       colsample_bytree=1, gamma=0.1, learning_rate=0.1, max_delta_step=0,\n",
       "       max_depth=3, min_child_weight=1, missing=None, n_estimator=200,\n",
       "       n_estimators=100, n_jobs=2, nthread=None,\n",
       "       objective='multi:softprob', random_state=0, reg_alpha=0,\n",
       "       reg_lambda=1, scale_pos_weight=1, seed=None, silent=False,\n",
       "       subsample=1, verbose=1)"
      ]
     },
     "execution_count": 19,
     "metadata": {},
     "output_type": "execute_result"
    }
   ],
   "source": [
    "xgb4.fit(train4_tra_x, train4_tra_y)"
   ]
  },
  {
   "cell_type": "code",
   "execution_count": 72,
   "metadata": {},
   "outputs": [
    {
     "name": "stderr",
     "output_type": "stream",
     "text": [
      "D:\\anaconda\\lib\\site-packages\\sklearn\\preprocessing\\label.py:151: DeprecationWarning: The truth value of an empty array is ambiguous. Returning False, but in future this will result in an error. Use `array.size > 0` to check that an array is not empty.\n",
      "  if diff:\n"
     ]
    }
   ],
   "source": [
    "val_xgb4 = xgb4.predict(train4_val_x)"
   ]
  },
  {
   "cell_type": "code",
   "execution_count": 73,
   "metadata": {},
   "outputs": [
    {
     "name": "stderr",
     "output_type": "stream",
     "text": [
      "D:\\anaconda\\lib\\site-packages\\sklearn\\preprocessing\\label.py:151: DeprecationWarning: The truth value of an empty array is ambiguous. Returning False, but in future this will result in an error. Use `array.size > 0` to check that an array is not empty.\n",
      "  if diff:\n",
      "D:\\anaconda\\lib\\site-packages\\ipykernel_launcher.py:3: SettingWithCopyWarning: \n",
      "A value is trying to be set on a copy of a slice from a DataFrame.\n",
      "Try using .loc[row_indexer,col_indexer] = value instead\n",
      "\n",
      "See the caveats in the documentation: http://pandas.pydata.org/pandas-docs/stable/indexing.html#indexing-view-versus-copy\n",
      "  This is separate from the ipykernel package so we can avoid doing imports until\n"
     ]
    }
   ],
   "source": [
    "val_xgb4 = le4.inverse_transform(val_xgb4)\n",
    "validation4 = train4_id[int(4/5*len(train4_x_stand)):]\n",
    "validation4['predict_service'] = val_xgb4"
   ]
  },
  {
   "cell_type": "code",
   "execution_count": 74,
   "metadata": {},
   "outputs": [
    {
     "name": "stderr",
     "output_type": "stream",
     "text": [
      "D:\\anaconda\\lib\\site-packages\\sklearn\\preprocessing\\label.py:151: DeprecationWarning: The truth value of an empty array is ambiguous. Returning False, but in future this will result in an error. Use `array.size > 0` to check that an array is not empty.\n",
      "  if diff:\n",
      "D:\\anaconda\\lib\\site-packages\\ipykernel_launcher.py:2: SettingWithCopyWarning: \n",
      "A value is trying to be set on a copy of a slice from a DataFrame.\n",
      "Try using .loc[row_indexer,col_indexer] = value instead\n",
      "\n",
      "See the caveats in the documentation: http://pandas.pydata.org/pandas-docs/stable/indexing.html#indexing-view-versus-copy\n",
      "  \n"
     ]
    }
   ],
   "source": [
    "val_y4 = train4_id[int(4/5*len(train4_x_stand)):]\n",
    "val_y4['current_service'] = le4.inverse_transform(train4_val_y)"
   ]
  },
  {
   "cell_type": "markdown",
   "metadata": {},
   "source": [
    "0.7970线上 去掉total_pay\n",
    "\n",
    "0.734 有total_pay"
   ]
  },
  {
   "cell_type": "code",
   "execution_count": 75,
   "metadata": {},
   "outputs": [
    {
     "name": "stdout",
     "output_type": "stream",
     "text": [
      "0.9346548492645891 89950166\n",
      "0.7870439314966493 99999830\n",
      "0.8916945335426193 89950167\n",
      "0.95042194092827 89950168\n",
      "0.7667031763417306 99999827\n",
      "0.8015380065069506 99999826\n",
      "0.8430037597805101 99999828\n",
      "0.9485232067510548 99999825\n",
      "0.7823631624674197 89016253\n",
      "0.9420877904832166 89016252\n",
      "0.7587867116032738 89016259\n"
     ]
    },
    {
     "data": {
      "text/plain": [
       "0.7313081208868655"
      ]
     },
     "execution_count": 75,
     "metadata": {},
     "output_type": "execute_result"
    }
   ],
   "source": [
    "score(val_y4, validation4)"
   ]
  },
  {
   "cell_type": "code",
   "execution_count": 76,
   "metadata": {},
   "outputs": [
    {
     "data": {
      "image/png": "[encoded data removed]",
      "text/plain": [
       "<Figure size 864x864 with 1 Axes>"
      ]
     },
     "metadata": {},
     "output_type": "display_data"
    }
   ],
   "source": [
    "from xgboost import plot_importance\n",
    "import matplotlib.pyplot as plt\n",
    "\n",
    "fig, ax2 = plt.subplots(1,1,figsize=(12, 12))\n",
    "plot_importance(booster=xgb4, ax=ax2)\n",
    "plt.show()"
   ]
  },
  {
   "cell_type": "markdown",
   "metadata": {},
   "source": [
    "# 测试集"
   ]
  },
  {
   "cell_type": "code",
   "execution_count": 83,
   "metadata": {},
   "outputs": [],
   "source": [
    "test4 = pd.read_csv('test4_featured.csv')\n",
    "test1 = pd.read_csv('test1_featured.csv')"
   ]
  },
  {
   "cell_type": "code",
   "execution_count": 84,
   "metadata": {},
   "outputs": [
    {
     "name": "stdout",
     "output_type": "stream",
     "text": [
      "<class 'pandas.core.frame.DataFrame'>\n",
      "RangeIndex: 142914 entries, 0 to 142913\n",
      "Data columns (total 70 columns):\n",
      "service_type              142914 non-null int64\n",
      "is_mix_service            142914 non-null int64\n",
      "online_time               142914 non-null int64\n",
      "1_total_fee               142914 non-null float64\n",
      "2_total_fee               142914 non-null float64\n",
      "3_total_fee               142914 non-null float64\n",
      "4_total_fee               142914 non-null float64\n",
      "month_traffic             142914 non-null float64\n",
      "many_over_bill            142914 non-null int64\n",
      "contract_type             142914 non-null int64\n",
      "contract_time             142914 non-null int64\n",
      "is_promise_low_consume    142914 non-null int64\n",
      "net_service               142914 non-null int64\n",
      "pay_times                 142914 non-null int64\n",
      "pay_num                   142914 non-null float64\n",
      "last_month_traffic        142914 non-null float64\n",
      "local_trafffic_month      142914 non-null float64\n",
      "local_caller_time         142914 non-null float64\n",
      "service1_caller_time      142914 non-null float64\n",
      "service2_caller_time      142914 non-null float64\n",
      "gender                    142914 non-null int64\n",
      "age                       142914 non-null int64\n",
      "complaint_level           142914 non-null int64\n",
      "former_complaint_num      142914 non-null int64\n",
      "former_complaint_fee      142914 non-null int64\n",
      "user_id                   142914 non-null object\n",
      "same_time_user1           117137 non-null float64\n",
      "same_time_user2           117137 non-null float64\n",
      "same_time_user3           117137 non-null float64\n",
      "same_time_user4           117137 non-null float64\n",
      "same_time_user5           117137 non-null float64\n",
      "same_time_user6           117137 non-null float64\n",
      "same_time_user7           117137 non-null float64\n",
      "same_time_user8           117137 non-null float64\n",
      "same_time_user9           117137 non-null float64\n",
      "same_time_user10          117137 non-null float64\n",
      "same_time_user11          117137 non-null float64\n",
      "many_online_mix           142914 non-null int64\n",
      "little_online_mix         142914 non-null int64\n",
      "many_online_notmix        142914 non-null int64\n",
      "little_online_notmix      142914 non-null int64\n",
      "12_fee                    142914 non-null float64\n",
      "23_fee                    142914 non-null float64\n",
      "34_fee                    142914 non-null float64\n",
      "remain_fee                142914 non-null float64\n",
      "pay_diff_fee              142914 non-null float64\n",
      "no_local_caller           142914 non-null int64\n",
      "no_service1_caller        142914 non-null int64\n",
      "no_service2_caller        142914 non-null int64\n",
      "service_caller_time       142914 non-null float64\n",
      "former_0                  142914 non-null int64\n",
      "no_call                   142914 non-null int64\n",
      "no_service_but_call       142914 non-null int64\n",
      "no_traffic                142914 non-null int64\n",
      "out_traffic               142914 non-null float64\n",
      "same_age_user1            142334 non-null float64\n",
      "same_age_user2            142334 non-null float64\n",
      "same_age_user3            142334 non-null float64\n",
      "same_age_user4            142334 non-null float64\n",
      "same_age_user5            142334 non-null float64\n",
      "same_age_user6            142334 non-null float64\n",
      "same_age_user7            142334 non-null float64\n",
      "same_age_user8            142334 non-null float64\n",
      "same_age_user9            142334 non-null float64\n",
      "same_age_user10           142334 non-null float64\n",
      "same_age_user11           142334 non-null float64\n",
      "1_total_fee_counts        137858 non-null float64\n",
      "2_total_fee_counts        137441 non-null float64\n",
      "3_total_fee_counts        137767 non-null float64\n",
      "4_total_fee_counts        137498 non-null float64\n",
      "dtypes: float64(44), int64(25), object(1)\n",
      "memory usage: 76.3+ MB\n"
     ]
    }
   ],
   "source": [
    "test4.info()"
   ]
  },
  {
   "cell_type": "code",
   "execution_count": 85,
   "metadata": {},
   "outputs": [],
   "source": [
    "test4_id = test4[['user_id']]\n",
    "test4_x = test4.drop(['service_type', 'gender','user_id'], axis=1)"
   ]
  },
  {
   "cell_type": "code",
   "execution_count": 86,
   "metadata": {},
   "outputs": [],
   "source": [
    "test4_x_stand = test4_x"
   ]
  },
  {
   "cell_type": "code",
   "execution_count": 87,
   "metadata": {},
   "outputs": [
    {
     "name": "stderr",
     "output_type": "stream",
     "text": [
      "D:\\anaconda\\lib\\site-packages\\sklearn\\preprocessing\\label.py:151: DeprecationWarning: The truth value of an empty array is ambiguous. Returning False, but in future this will result in an error. Use `array.size > 0` to check that an array is not empty.\n",
      "  if diff:\n"
     ]
    }
   ],
   "source": [
    "pre_test4 = xgb4.predict(test4_x_stand)"
   ]
  },
  {
   "cell_type": "code",
   "execution_count": 88,
   "metadata": {},
   "outputs": [
    {
     "name": "stderr",
     "output_type": "stream",
     "text": [
      "D:\\anaconda\\lib\\site-packages\\sklearn\\preprocessing\\label.py:151: DeprecationWarning: The truth value of an empty array is ambiguous. Returning False, but in future this will result in an error. Use `array.size > 0` to check that an array is not empty.\n",
      "  if diff:\n"
     ]
    }
   ],
   "source": [
    "pre_test4 = le4.inverse_transform(pre_test4)"
   ]
  },
  {
   "cell_type": "code",
   "execution_count": 89,
   "metadata": {},
   "outputs": [
    {
     "name": "stderr",
     "output_type": "stream",
     "text": [
      "D:\\anaconda\\lib\\site-packages\\ipykernel_launcher.py:2: SettingWithCopyWarning: \n",
      "A value is trying to be set on a copy of a slice from a DataFrame.\n",
      "Try using .loc[row_indexer,col_indexer] = value instead\n",
      "\n",
      "See the caveats in the documentation: http://pandas.pydata.org/pandas-docs/stable/indexing.html#indexing-view-versus-copy\n",
      "  \n"
     ]
    }
   ],
   "source": [
    "predict4 = test4_id\n",
    "predict4['predict_service'] = pre_test4"
   ]
  },
  {
   "cell_type": "code",
   "execution_count": 90,
   "metadata": {},
   "outputs": [],
   "source": [
    "predict4.to_csv('predict4_xgb.csv', index=False)"
   ]
  },
  {
   "cell_type": "code",
   "execution_count": 16,
   "metadata": {},
   "outputs": [],
   "source": [
    "def score(tr, te):\n",
    "    labels = tr['current_service'].unique()\n",
    "    f1_score = 0\n",
    "    for label in labels:\n",
    "        tp = 0\n",
    "        fp = 0\n",
    "        fn = 0\n",
    "        sub_tr = tr[tr['current_service'] == label]['current_service']\n",
    "        index_tr = tr[tr['current_service'] == label].index.tolist()\n",
    "        sub_te = te['predict_service'][index_tr]\n",
    "        for la in sub_te.values:\n",
    "            if la == label:\n",
    "                tp = tp + 1\n",
    "            else:\n",
    "                fn = fn + 1\n",
    "        index_te = te[te['predict_service'] == label].index.tolist()\n",
    "        fp_list = set(index_te).difference(index_tr)\n",
    "        fp = len(fp_list)\n",
    "        precision = tp/(tp+fp)\n",
    "        recall = tp/(tp+fn)\n",
    "        f1_score = f1_score + (2*precision*recall)/(precision+recall)\n",
    "        print((2*precision*recall)/(precision+recall), label)\n",
    "    final_score = (1/(len(labels))*f1_score)**2\n",
    "    \n",
    "    return final_score"
   ]
  }
 ],
 "metadata": {
  "kernelspec": {
   "display_name": "Python 3",
   "language": "python",
   "name": "python3"
  },
  "language_info": {
   "codemirror_mode": {
    "name": "ipython",
    "version": 3
   },
   "file_extension": ".py",
   "mimetype": "text/x-python",
   "name": "python",
   "nbconvert_exporter": "python",
   "pygments_lexer": "ipython3",
   "version": "3.6.5"
  },
  "toc": {
   "base_numbering": 1,
   "nav_menu": {},
   "number_sections": true,
   "sideBar": true,
   "skip_h1_title": false,
   "title_cell": "Table of Contents",
   "title_sidebar": "Contents",
   "toc_cell": false,
   "toc_position": {},
   "toc_section_display": true,
   "toc_window_display": false
  },
  "varInspector": {
   "cols": {
    "lenName": 16,
    "lenType": 16,
    "lenVar": 40
   },
   "kernels_config": {
    "python": {
     "delete_cmd_postfix": "",
     "delete_cmd_prefix": "del ",
     "library": "var_list.py",
     "varRefreshCmd": "print(var_dic_list())"
    },
    "r": {
     "delete_cmd_postfix": ") ",
     "delete_cmd_prefix": "rm(",
     "library": "var_list.r",
     "varRefreshCmd": "cat(var_dic_list()) "
    }
   },
   "types_to_exclude": [
    "module",
    "function",
    "builtin_function_or_method",
    "instance",
    "_Feature"
   ],
   "window_display": false
  }
 },
 "nbformat": 4,
 "nbformat_minor": 2
}
