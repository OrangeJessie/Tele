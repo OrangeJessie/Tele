{
 "cells": [
  {
   "cell_type": "code",
   "execution_count": 1,
   "metadata": {},
   "outputs": [],
   "source": [
    "import lightgbm as lgb\n",
    "import pandas as pd\n",
    "import numpy as np\n",
    "from sklearn.model_selection import StratifiedKFold\n",
    "import warnings\n",
    "warnings.filterwarnings('ignore')\n",
    "pd.set_option('max_columns', 100)\n",
    "pd.set_option('max_rows', 200)\n",
    "%matplotlib inline"
   ]
  },
  {
   "cell_type": "code",
   "execution_count": 2,
   "metadata": {},
   "outputs": [],
   "source": [
    "train = pd.read_csv('train_pre.csv')"
   ]
  },
  {
   "cell_type": "code",
   "execution_count": 3,
   "metadata": {},
   "outputs": [],
   "source": [
    "train_id = train[['user_id']]\n",
    "train_y = train[['current_service']]\n",
    "train_x = train.drop(['user_id', 'current_service'], axis=1)\n",
    "train_feature = train_x.columns"
   ]
  },
  {
   "cell_type": "code",
   "execution_count": 4,
   "metadata": {},
   "outputs": [],
   "source": [
    "from sklearn.preprocessing import LabelEncoder\n",
    "le = LabelEncoder()\n",
    "train_y_le = le.fit_transform(train_y['current_service'])"
   ]
  },
  {
   "cell_type": "code",
   "execution_count": 5,
   "metadata": {},
   "outputs": [],
   "source": [
    "test = pd.read_csv('test_pre.csv')"
   ]
  },
  {
   "cell_type": "code",
   "execution_count": 6,
   "metadata": {},
   "outputs": [],
   "source": [
    "test_id = test[['user_id']]\n",
    "test_x = test.drop(['user_id'], axis=1)"
   ]
  },
  {
   "cell_type": "code",
   "execution_count": 7,
   "metadata": {},
   "outputs": [],
   "source": [
    "x_train = train_x.values\n",
    "x_test = test_x.values"
   ]
  },
  {
   "cell_type": "code",
   "execution_count": 8,
   "metadata": {},
   "outputs": [],
   "source": [
    "from sklearn.model_selection import KFold\n",
    "\n",
    "ntrain = train_x.shape[0]\n",
    "ntest = test_x.shape[0]\n",
    "seed = 0\n",
    "nfold = 5\n",
    "kf = KFold(n_splits=nfold, random_state=seed, shuffle=False)\n",
    "\n",
    "def get_out_fold(clf, x_train, y_train, x_test):\n",
    "    oof_train = np.zeros((ntrain, ))\n",
    "    oof_test = np.zeros((ntest, ))\n",
    "    oof_test_skf = np.empty((nfold, ntest))\n",
    "    \n",
    "    for i, (train_index, valid_index) in enumerate(kf.split(x_train)):\n",
    "        x_tr = x_train[train_index]\n",
    "        x_va = x_train[valid_index]\n",
    "        y_tr = y_train[train_index]\n",
    "        \n",
    "        clf.fit(x_tr, y_tr)\n",
    "        \n",
    "        oof_train[valid_index] = clf.predict(x_va)\n",
    "        oof_test_skf[i, :] = clf.predict(x_test)\n",
    "        \n",
    "    oof_test[:] = oof_test_skf.mean(axis=0)\n",
    "    return oof_train.reshape(-1, 1), oof_test.reshape(-1, 1)"
   ]
  },
  {
   "cell_type": "code",
   "execution_count": 10,
   "metadata": {},
   "outputs": [],
   "source": [
    "from sklearn.ensemble import RandomForestClassifier\n",
    "# from sklearn.multiclass import OneVsRestClassifier\n",
    "from sklearn.ensemble import GradientBoostingClassifier\n",
    "from sklearn.ensemble import ExtraTreesClassifier\n",
    "\n",
    "rf = RandomForestClassifier(n_estimators=600, max_depth=8, random_state=42, verbose=1, oob_score=True)\n",
    "gbdt = GradientBoostingClassifier(n_estimators=100, learning_rate=0.05)\n",
    "# et = ExtraTreesClassifier(n_estimators=200, max_depth=7, random_state=42, verbose=1)\n",
    "# rf_oof_train, rf_oof_test = get_out_fold(orv_rf, x_train, train_y_le, x_test)\n",
    "# gb_oof_train, gb_oof_test = get_out_fold(orv_gbdt, x_train, train_y_le, x_test)\n",
    "# et_oof_train, et_oof_test = get_out_fold(orv_et, x_train, train_y_le, x_test)\n"
   ]
  },
  {
   "cell_type": "code",
   "execution_count": 11,
   "metadata": {},
   "outputs": [
    {
     "name": "stdout",
     "output_type": "stream",
     "text": [
      "0\n"
     ]
    },
    {
     "ename": "NameError",
     "evalue": "name 'score' is not defined",
     "output_type": "error",
     "traceback": [
      "\u001b[1;31m---------------------------------------------------------------------------\u001b[0m",
      "\u001b[1;31mNameError\u001b[0m                                 Traceback (most recent call last)",
      "\u001b[1;32m<ipython-input-11-d447da21102d>\u001b[0m in \u001b[0;36m<module>\u001b[1;34m()\u001b[0m\n\u001b[0;32m      9\u001b[0m     \u001b[0mvalidation\u001b[0m \u001b[1;33m=\u001b[0m \u001b[0mtrain_id\u001b[0m\u001b[1;33m.\u001b[0m\u001b[0mloc\u001b[0m\u001b[1;33m[\u001b[0m\u001b[0mvalid_index\u001b[0m\u001b[1;33m]\u001b[0m\u001b[1;33m\u001b[0m\u001b[0m\n\u001b[0;32m     10\u001b[0m     \u001b[0mvalidation\u001b[0m\u001b[1;33m[\u001b[0m\u001b[1;34m'current_service'\u001b[0m\u001b[1;33m]\u001b[0m \u001b[1;33m=\u001b[0m \u001b[0mle\u001b[0m\u001b[1;33m.\u001b[0m\u001b[0minverse_transform\u001b[0m\u001b[1;33m(\u001b[0m\u001b[0my_valid\u001b[0m\u001b[1;33m)\u001b[0m\u001b[1;33m\u001b[0m\u001b[0m\n\u001b[1;32m---> 11\u001b[1;33m     \u001b[0mscore_rf\u001b[0m\u001b[1;33m.\u001b[0m\u001b[0mappend\u001b[0m\u001b[1;33m(\u001b[0m\u001b[0mscore\u001b[0m\u001b[1;33m(\u001b[0m\u001b[0mvalidation\u001b[0m\u001b[1;33m,\u001b[0m \u001b[0mvalid_pre\u001b[0m\u001b[1;33m)\u001b[0m\u001b[1;33m)\u001b[0m\u001b[1;33m\u001b[0m\u001b[0m\n\u001b[0m\u001b[0;32m     12\u001b[0m     \u001b[0my_test\u001b[0m \u001b[1;33m=\u001b[0m \u001b[0mclf\u001b[0m\u001b[1;33m.\u001b[0m\u001b[0mpredict\u001b[0m\u001b[1;33m(\u001b[0m\u001b[0mtest_x\u001b[0m\u001b[1;33m)\u001b[0m\u001b[1;33m\u001b[0m\u001b[0m\n\u001b[0;32m     13\u001b[0m \u001b[1;33m\u001b[0m\u001b[0m\n",
      "\u001b[1;31mNameError\u001b[0m: name 'score' is not defined"
     ]
    }
   ],
   "source": [
    "score_rf = []\n",
    "for index, (train_index, valid_index) in enumerate(kf.split(train_x, train_y_le)):\n",
    "    print(index)\n",
    "    x_train, x_valid, y_train, y_valid = train_x.loc[train_index], train_x.loc[valid_index], train_y_le[train_index], train_y_le[valid_index]\n",
    "    clf = gbdt.fit(x_train.values, y_train)\n",
    "    x_pred = clf.predict(x_valid)\n",
    "    valid_pre = train_id.loc[valid_index]\n",
    "    valid_pre['predict_service'] = le.inverse_transform(x_pred)\n",
    "    validation = train_id.loc[valid_index]\n",
    "    validation['current_service'] = le.inverse_transform(y_valid)\n",
    "    score_rf.append(score(validation, valid_pre))\n",
    "    y_test = clf.predict(test_x)\n",
    "\n",
    "#     lgb_oof_train[valid_index] = x_pred\n",
    "    \n",
    "    if index == 0:\n",
    "        cv_pred = np.array(y_test).reshape(-1, 1)\n",
    "    else:\n",
    "        cv_pred = np.hstack((cv_pred, np.array(y_test).reshape(-1, 1)))"
   ]
  },
  {
   "cell_type": "code",
   "execution_count": 19,
   "metadata": {},
   "outputs": [],
   "source": [
    "submit_xgb = np.load('submit_xgb.npy')"
   ]
  },
  {
   "cell_type": "code",
   "execution_count": 20,
   "metadata": {},
   "outputs": [],
   "source": [
    "submit_xgb = le.inverse_transform(submit_xgb)\n",
    "df_test = test_id[['user_id']]\n",
    "df_test['predict_service'] = submit_xgb"
   ]
  },
  {
   "cell_type": "code",
   "execution_count": 22,
   "metadata": {},
   "outputs": [],
   "source": [
    "df_test.to_csv('xgb_base_0.744.csv', index=None)"
   ]
  },
  {
   "cell_type": "code",
   "execution_count": 11,
   "metadata": {},
   "outputs": [],
   "source": [
    "def score(tr, te):\n",
    "    labels = tr['current_service'].unique()\n",
    "    f1_score = 0\n",
    "    for label in labels:\n",
    "        tp = 0\n",
    "        fp = 0\n",
    "        fn = 0\n",
    "        sub_tr = tr[tr['current_service'] == label]['current_service']\n",
    "        index_tr = tr[tr['current_service'] == label].index.tolist()\n",
    "        sub_te = te['predict_service'][index_tr]\n",
    "        for la in sub_te.values:\n",
    "            if la == label:\n",
    "                tp = tp + 1\n",
    "            else:\n",
    "                fn = fn + 1\n",
    "        index_te = te[te['predict_service'] == label].index.tolist()\n",
    "        fp_list = set(index_te).difference(index_tr)\n",
    "        fp = len(fp_list)\n",
    "        precision = tp/(tp+fp)\n",
    "        recall = tp/(tp+fn)\n",
    "        f1_score = f1_score + (2*precision*recall)/(precision+recall)\n",
    "#         print((2*precision*recall)/(precision+recall), label)\n",
    "    final_score = (1/(len(labels))*f1_score)**2\n",
    "    \n",
    "    return final_score"
   ]
  },
  {
   "cell_type": "code",
   "execution_count": null,
   "metadata": {},
   "outputs": [],
   "source": []
  }
 ],
 "metadata": {
  "kernelspec": {
   "display_name": "Python 3",
   "language": "python",
   "name": "python3"
  },
  "language_info": {
   "codemirror_mode": {
    "name": "ipython",
    "version": 3
   },
   "file_extension": ".py",
   "mimetype": "text/x-python",
   "name": "python",
   "nbconvert_exporter": "python",
   "pygments_lexer": "ipython3",
   "version": "3.6.5"
  },
  "toc": {
   "base_numbering": 1,
   "nav_menu": {},
   "number_sections": true,
   "sideBar": true,
   "skip_h1_title": false,
   "title_cell": "Table of Contents",
   "title_sidebar": "Contents",
   "toc_cell": false,
   "toc_position": {},
   "toc_section_display": true,
   "toc_window_display": false
  },
  "varInspector": {
   "cols": {
    "lenName": 16,
    "lenType": 16,
    "lenVar": 40
   },
   "kernels_config": {
    "python": {
     "delete_cmd_postfix": "",
     "delete_cmd_prefix": "del ",
     "library": "var_list.py",
     "varRefreshCmd": "print(var_dic_list())"
    },
    "r": {
     "delete_cmd_postfix": ") ",
     "delete_cmd_prefix": "rm(",
     "library": "var_list.r",
     "varRefreshCmd": "cat(var_dic_list()) "
    }
   },
   "types_to_exclude": [
    "module",
    "function",
    "builtin_function_or_method",
    "instance",
    "_Feature"
   ],
   "window_display": false
  }
 },
 "nbformat": 4,
 "nbformat_minor": 2
}
